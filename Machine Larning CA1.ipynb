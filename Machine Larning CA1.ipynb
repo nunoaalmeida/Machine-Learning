{
 "cells": [
  {
   "cell_type": "markdown",
   "id": "f66a0e34",
   "metadata": {},
   "source": [
    " # HDip Data Analytics - FT - Sept 2021\n",
    " ## Machine Learning\n",
    " ### CA1 \n",
    " \n",
    " \n",
    "Adrian de Miranda Gomes - 2021261\n",
    "\n",
    "Gabriela Fernandez Perez - 2021305\n",
    "\n",
    "Nuno Alfredo Ribeiro Teixeira de Almeida - 2021310\n",
    "\n",
    "\n"
   ]
  },
  {
   "cell_type": "markdown",
   "id": "da38eed3",
   "metadata": {},
   "source": [
    "                 \n",
    "# Contents\n",
    "[Data: Video Game Sales](#Data)\n",
    "1. [Characterization](#1)                                                                                   \n",
    "    1.1. [Data Dictionary](#1.1)                                                                                               \n",
    "    1.2. [mporting necessary libraries](#1.2)                                                                                   \n",
    "    1.3. [Analizing Size of Data Set](#1.3)                                                                                   \n",
    "    1.4. [Data Dictionary:](#1.4)                                                                                   \n",
    "2. [Applying Data Preparation](#2)                    \n",
    "    2.1. [Replacing null values with mean](#2.1)                                                                              \n",
    "    2.2. [Drop Publisher](#2.2)                                                                                     \n",
    "3. [The 5 number Summary](#3)   \n",
    "5. [Using Correlation](#5)   \n",
    "    5.1. [Heatmap](#5.1)                                                                                   \n",
    "    5.2. [Droping columns](#5.2)                                                                                               \n",
    "6. [Characterization](#1)                                                                                   \n",
    "    6.1. [European Sales and Games](#6.1)                                                                                       \n",
    "    6.2. [European Sales and Genre](#6.2)                                                                                   \n",
    "    6.3. [Genre](#6.3)                                                                                   \n",
    "    6.4. [European Sales/Global Sales and Year](#6.4)                                                                           \n",
    "    6.5. [Scatter Plot](#6.5)\n",
    "7. [Summary of Findings](#7)  \n",
    "8. [Machine Learning Models (Preparing)](#8)                                                                                   \n",
    "    8.1. [Encoding Data](#8.1)                                                                                     \n",
    "    8.2. [Dependent Variable](#8.2)                                                                                   \n",
    "    8.3. [Standarizing Data](#8.3)                                                                                   \n",
    "9. [Models at 30%](#9)                                                                                   \n",
    "    9.1. [Linear Regression 30%](#9.1)                                                                                     \n",
    "    9.2. [Cross-Validation Linear Regression](#9.2)                                                                             \n",
    "    9.3. [KNN 30%](#9.3)                                                                                   \n",
    "    9.4. [Cross-Validation KNN](#9.4)                                                                                   \n",
    "    9.5. [SVR 30%](#9.5)                                                                                   \n",
    "    9.4. [Cross-Validation SVR](#9.6)                                                                                   \n",
    "    9.5. [Modeling Results 30%](#9.7)                                                                                   \n",
    "10. [Models at 20%](#10)                                                                                   \n",
    "    10.1. [Linear Regression 20%](#10.1)                                                                                     \n",
    "    10.2. [KNN 20%](#10.2)                                                                                   \n",
    "    10.3. [SVR 20%](#10.3)                                                                                   \n",
    "    10.4. [Results 20%](#10.4)                                                                                   \n",
    "11. [Models at 10%](#11)                                                                                   \n",
    "    11.1. [Linear Regression 10%](#11.1)                                                                                     \n",
    "    11.2. [KNN 10%](#11.2)                                                                                   \n",
    "    11.3. [SVR 10%](#11.3)                                                                                   \n",
    "    11.4. [Results 20%](#11.4)                                                                                   \n",
    " \n"
   ]
  },
  {
   "cell_type": "markdown",
   "id": "5d920d33",
   "metadata": {},
   "source": [
    "***"
   ]
  },
  {
   "cell_type": "markdown",
   "id": "1ea47348",
   "metadata": {},
   "source": [
    "\n",
    "# Data: Video Game Sales<a name=\"Data\"></a> \n",
    "\n",
    "    This data was downloaded from Kaggle and the author is Gregory Smith, in 2017.\n",
    "    \n",
    "\n",
    "## 1. Characterization<a name=\"1\"></a>      \n",
    "    \n",
    "### 1.1Data Dictionary:<a name=\"1.1\"></a> \n",
    "\n",
    "\n",
    "Rank - Ranking of overall sales\n",
    "\n",
    "Name - The games name\n",
    "\n",
    "Platform - Platform of the games release (i.e. PC,PS4, etc.)\n",
    "\n",
    "Year - Year of the game's release\n",
    "\n",
    "Genre - Genre of the game\n",
    "\n",
    "Publisher - Publisher of the game\n",
    "\n",
    "NA_Sales - Sales in North America (in millions)\n",
    "\n",
    "EU_Sales - Sales in Europe (in millions)\n",
    "\n",
    "JP_Sales - Sales in Japan (in millions)\n",
    "\n",
    "Other_Sales - Sales in the rest of the world (in millions)\n",
    "\n",
    "Global_Sales - Total worldwide sales."
   ]
  },
  {
   "cell_type": "markdown",
   "id": "34eead2e",
   "metadata": {},
   "source": [
    "### 1.2 Importing necessary libraries<a name=\"1.2\"></a> \n",
    "This is neccesary to read the data set and be able to plot and do the required mathematic functions as we can see below, import libraries is a function that get from the librarias function existent and apply in the Jupiter Notebook to be able use it. "
   ]
  },
  {
   "cell_type": "code",
   "execution_count": 1,
   "id": "4d7eaf55",
   "metadata": {},
   "outputs": [],
   "source": [
    "import pandas as pd\n",
    "import numpy as np\n",
    "import seaborn as sns\n",
    "import matplotlib.pyplot as plt\n",
    "\n",
    "%matplotlib inline"
   ]
  },
  {
   "cell_type": "markdown",
   "id": "34ebadbc",
   "metadata": {},
   "source": [
    "Reading the Data Set we use the function pd.read, this function is able to get the data set from the computer (Eg.: CSV Type) or host and bring to this page all the information. "
   ]
  },
  {
   "cell_type": "code",
   "execution_count": 2,
   "id": "9e5b0e4c",
   "metadata": {},
   "outputs": [],
   "source": [
    "vg = pd.read_csv('vgsales.csv')"
   ]
  },
  {
   "cell_type": "markdown",
   "id": "8b1bdf03",
   "metadata": {},
   "source": [
    "We get general information of the data set with the next function. \n",
    "Here we know the number of rows, how many columns we have, if they contian missing values and the type of data in each column. "
   ]
  },
  {
   "cell_type": "code",
   "execution_count": 3,
   "id": "5aacaa72",
   "metadata": {},
   "outputs": [
    {
     "name": "stdout",
     "output_type": "stream",
     "text": [
      "<class 'pandas.core.frame.DataFrame'>\n",
      "RangeIndex: 16598 entries, 0 to 16597\n",
      "Data columns (total 11 columns):\n",
      " #   Column        Non-Null Count  Dtype  \n",
      "---  ------        --------------  -----  \n",
      " 0   Rank          16598 non-null  int64  \n",
      " 1   Name          16598 non-null  object \n",
      " 2   Platform      16598 non-null  object \n",
      " 3   Year          16327 non-null  float64\n",
      " 4   Genre         16598 non-null  object \n",
      " 5   Publisher     16540 non-null  object \n",
      " 6   NA_Sales      16598 non-null  float64\n",
      " 7   EU_Sales      16598 non-null  float64\n",
      " 8   JP_Sales      16598 non-null  float64\n",
      " 9   Other_Sales   16598 non-null  float64\n",
      " 10  Global_Sales  16598 non-null  float64\n",
      "dtypes: float64(6), int64(1), object(4)\n",
      "memory usage: 1.4+ MB\n"
     ]
    }
   ],
   "source": [
    "vg.info()"
   ]
  },
  {
   "cell_type": "markdown",
   "id": "0e09971b",
   "metadata": {},
   "source": [
    "### 1.3 Analizing Size of Data Set <a name=\"1.3\"></a>\n"
   ]
  },
  {
   "cell_type": "markdown",
   "id": "8658a5e8",
   "metadata": {},
   "source": [
    "This data set contains <b> 16,598 Rows</b> and <b> 11 columns</b> We get this info based on <b> shape</b>"
   ]
  },
  {
   "cell_type": "code",
   "execution_count": 4,
   "id": "59299105",
   "metadata": {},
   "outputs": [
    {
     "data": {
      "text/plain": [
       "(16598, 11)"
      ]
     },
     "execution_count": 4,
     "metadata": {},
     "output_type": "execute_result"
    }
   ],
   "source": [
    "vg.shape"
   ]
  },
  {
   "cell_type": "markdown",
   "id": "8dcdcc8f",
   "metadata": {},
   "source": [
    "The funcion <b>head</b> and <b>tail</b> allow us to take a look to the data set. We can see the info contained in the rows and columns. Like a visualisation table. That we can check more informations In the first lines or at the end of the data set, depends on which coeficient did you put, in our case is the number 5. "
   ]
  },
  {
   "cell_type": "code",
   "execution_count": 5,
   "id": "4d85f640",
   "metadata": {},
   "outputs": [
    {
     "data": {
      "text/html": [
       "<div>\n",
       "<style scoped>\n",
       "    .dataframe tbody tr th:only-of-type {\n",
       "        vertical-align: middle;\n",
       "    }\n",
       "\n",
       "    .dataframe tbody tr th {\n",
       "        vertical-align: top;\n",
       "    }\n",
       "\n",
       "    .dataframe thead th {\n",
       "        text-align: right;\n",
       "    }\n",
       "</style>\n",
       "<table border=\"1\" class=\"dataframe\">\n",
       "  <thead>\n",
       "    <tr style=\"text-align: right;\">\n",
       "      <th></th>\n",
       "      <th>Rank</th>\n",
       "      <th>Name</th>\n",
       "      <th>Platform</th>\n",
       "      <th>Year</th>\n",
       "      <th>Genre</th>\n",
       "      <th>Publisher</th>\n",
       "      <th>NA_Sales</th>\n",
       "      <th>EU_Sales</th>\n",
       "      <th>JP_Sales</th>\n",
       "      <th>Other_Sales</th>\n",
       "      <th>Global_Sales</th>\n",
       "    </tr>\n",
       "  </thead>\n",
       "  <tbody>\n",
       "    <tr>\n",
       "      <th>0</th>\n",
       "      <td>1</td>\n",
       "      <td>Wii Sports</td>\n",
       "      <td>Wii</td>\n",
       "      <td>2006.0</td>\n",
       "      <td>Sports</td>\n",
       "      <td>Nintendo</td>\n",
       "      <td>41.49</td>\n",
       "      <td>29.02</td>\n",
       "      <td>3.77</td>\n",
       "      <td>8.46</td>\n",
       "      <td>82.74</td>\n",
       "    </tr>\n",
       "    <tr>\n",
       "      <th>1</th>\n",
       "      <td>2</td>\n",
       "      <td>Super Mario Bros.</td>\n",
       "      <td>NES</td>\n",
       "      <td>1985.0</td>\n",
       "      <td>Platform</td>\n",
       "      <td>Nintendo</td>\n",
       "      <td>29.08</td>\n",
       "      <td>3.58</td>\n",
       "      <td>6.81</td>\n",
       "      <td>0.77</td>\n",
       "      <td>40.24</td>\n",
       "    </tr>\n",
       "    <tr>\n",
       "      <th>2</th>\n",
       "      <td>3</td>\n",
       "      <td>Mario Kart Wii</td>\n",
       "      <td>Wii</td>\n",
       "      <td>2008.0</td>\n",
       "      <td>Racing</td>\n",
       "      <td>Nintendo</td>\n",
       "      <td>15.85</td>\n",
       "      <td>12.88</td>\n",
       "      <td>3.79</td>\n",
       "      <td>3.31</td>\n",
       "      <td>35.82</td>\n",
       "    </tr>\n",
       "    <tr>\n",
       "      <th>3</th>\n",
       "      <td>4</td>\n",
       "      <td>Wii Sports Resort</td>\n",
       "      <td>Wii</td>\n",
       "      <td>2009.0</td>\n",
       "      <td>Sports</td>\n",
       "      <td>Nintendo</td>\n",
       "      <td>15.75</td>\n",
       "      <td>11.01</td>\n",
       "      <td>3.28</td>\n",
       "      <td>2.96</td>\n",
       "      <td>33.00</td>\n",
       "    </tr>\n",
       "    <tr>\n",
       "      <th>4</th>\n",
       "      <td>5</td>\n",
       "      <td>Pokemon Red/Pokemon Blue</td>\n",
       "      <td>GB</td>\n",
       "      <td>1996.0</td>\n",
       "      <td>Role-Playing</td>\n",
       "      <td>Nintendo</td>\n",
       "      <td>11.27</td>\n",
       "      <td>8.89</td>\n",
       "      <td>10.22</td>\n",
       "      <td>1.00</td>\n",
       "      <td>31.37</td>\n",
       "    </tr>\n",
       "  </tbody>\n",
       "</table>\n",
       "</div>"
      ],
      "text/plain": [
       "   Rank                      Name Platform    Year         Genre Publisher  \\\n",
       "0     1                Wii Sports      Wii  2006.0        Sports  Nintendo   \n",
       "1     2         Super Mario Bros.      NES  1985.0      Platform  Nintendo   \n",
       "2     3            Mario Kart Wii      Wii  2008.0        Racing  Nintendo   \n",
       "3     4         Wii Sports Resort      Wii  2009.0        Sports  Nintendo   \n",
       "4     5  Pokemon Red/Pokemon Blue       GB  1996.0  Role-Playing  Nintendo   \n",
       "\n",
       "   NA_Sales  EU_Sales  JP_Sales  Other_Sales  Global_Sales  \n",
       "0     41.49     29.02      3.77         8.46         82.74  \n",
       "1     29.08      3.58      6.81         0.77         40.24  \n",
       "2     15.85     12.88      3.79         3.31         35.82  \n",
       "3     15.75     11.01      3.28         2.96         33.00  \n",
       "4     11.27      8.89     10.22         1.00         31.37  "
      ]
     },
     "execution_count": 5,
     "metadata": {},
     "output_type": "execute_result"
    }
   ],
   "source": [
    "vg.head(5)"
   ]
  },
  {
   "cell_type": "code",
   "execution_count": 6,
   "id": "48f50997",
   "metadata": {},
   "outputs": [
    {
     "data": {
      "text/html": [
       "<div>\n",
       "<style scoped>\n",
       "    .dataframe tbody tr th:only-of-type {\n",
       "        vertical-align: middle;\n",
       "    }\n",
       "\n",
       "    .dataframe tbody tr th {\n",
       "        vertical-align: top;\n",
       "    }\n",
       "\n",
       "    .dataframe thead th {\n",
       "        text-align: right;\n",
       "    }\n",
       "</style>\n",
       "<table border=\"1\" class=\"dataframe\">\n",
       "  <thead>\n",
       "    <tr style=\"text-align: right;\">\n",
       "      <th></th>\n",
       "      <th>Rank</th>\n",
       "      <th>Name</th>\n",
       "      <th>Platform</th>\n",
       "      <th>Year</th>\n",
       "      <th>Genre</th>\n",
       "      <th>Publisher</th>\n",
       "      <th>NA_Sales</th>\n",
       "      <th>EU_Sales</th>\n",
       "      <th>JP_Sales</th>\n",
       "      <th>Other_Sales</th>\n",
       "      <th>Global_Sales</th>\n",
       "    </tr>\n",
       "  </thead>\n",
       "  <tbody>\n",
       "    <tr>\n",
       "      <th>16593</th>\n",
       "      <td>16596</td>\n",
       "      <td>Woody Woodpecker in Crazy Castle 5</td>\n",
       "      <td>GBA</td>\n",
       "      <td>2002.0</td>\n",
       "      <td>Platform</td>\n",
       "      <td>Kemco</td>\n",
       "      <td>0.01</td>\n",
       "      <td>0.00</td>\n",
       "      <td>0.0</td>\n",
       "      <td>0.0</td>\n",
       "      <td>0.01</td>\n",
       "    </tr>\n",
       "    <tr>\n",
       "      <th>16594</th>\n",
       "      <td>16597</td>\n",
       "      <td>Men in Black II: Alien Escape</td>\n",
       "      <td>GC</td>\n",
       "      <td>2003.0</td>\n",
       "      <td>Shooter</td>\n",
       "      <td>Infogrames</td>\n",
       "      <td>0.01</td>\n",
       "      <td>0.00</td>\n",
       "      <td>0.0</td>\n",
       "      <td>0.0</td>\n",
       "      <td>0.01</td>\n",
       "    </tr>\n",
       "    <tr>\n",
       "      <th>16595</th>\n",
       "      <td>16598</td>\n",
       "      <td>SCORE International Baja 1000: The Official Game</td>\n",
       "      <td>PS2</td>\n",
       "      <td>2008.0</td>\n",
       "      <td>Racing</td>\n",
       "      <td>Activision</td>\n",
       "      <td>0.00</td>\n",
       "      <td>0.00</td>\n",
       "      <td>0.0</td>\n",
       "      <td>0.0</td>\n",
       "      <td>0.01</td>\n",
       "    </tr>\n",
       "    <tr>\n",
       "      <th>16596</th>\n",
       "      <td>16599</td>\n",
       "      <td>Know How 2</td>\n",
       "      <td>DS</td>\n",
       "      <td>2010.0</td>\n",
       "      <td>Puzzle</td>\n",
       "      <td>7G//AMES</td>\n",
       "      <td>0.00</td>\n",
       "      <td>0.01</td>\n",
       "      <td>0.0</td>\n",
       "      <td>0.0</td>\n",
       "      <td>0.01</td>\n",
       "    </tr>\n",
       "    <tr>\n",
       "      <th>16597</th>\n",
       "      <td>16600</td>\n",
       "      <td>Spirits &amp; Spells</td>\n",
       "      <td>GBA</td>\n",
       "      <td>2003.0</td>\n",
       "      <td>Platform</td>\n",
       "      <td>Wanadoo</td>\n",
       "      <td>0.01</td>\n",
       "      <td>0.00</td>\n",
       "      <td>0.0</td>\n",
       "      <td>0.0</td>\n",
       "      <td>0.01</td>\n",
       "    </tr>\n",
       "  </tbody>\n",
       "</table>\n",
       "</div>"
      ],
      "text/plain": [
       "        Rank                                              Name Platform  \\\n",
       "16593  16596                Woody Woodpecker in Crazy Castle 5      GBA   \n",
       "16594  16597                     Men in Black II: Alien Escape       GC   \n",
       "16595  16598  SCORE International Baja 1000: The Official Game      PS2   \n",
       "16596  16599                                        Know How 2       DS   \n",
       "16597  16600                                  Spirits & Spells      GBA   \n",
       "\n",
       "         Year     Genre   Publisher  NA_Sales  EU_Sales  JP_Sales  \\\n",
       "16593  2002.0  Platform       Kemco      0.01      0.00       0.0   \n",
       "16594  2003.0   Shooter  Infogrames      0.01      0.00       0.0   \n",
       "16595  2008.0    Racing  Activision      0.00      0.00       0.0   \n",
       "16596  2010.0    Puzzle    7G//AMES      0.00      0.01       0.0   \n",
       "16597  2003.0  Platform     Wanadoo      0.01      0.00       0.0   \n",
       "\n",
       "       Other_Sales  Global_Sales  \n",
       "16593          0.0          0.01  \n",
       "16594          0.0          0.01  \n",
       "16595          0.0          0.01  \n",
       "16596          0.0          0.01  \n",
       "16597          0.0          0.01  "
      ]
     },
     "execution_count": 6,
     "metadata": {},
     "output_type": "execute_result"
    }
   ],
   "source": [
    "vg.tail(5)"
   ]
  },
  {
   "cell_type": "markdown",
   "id": "f6faa9ab",
   "metadata": {},
   "source": [
    "This data set contain data in *numbers <b>(int)</b>, Text <b>(object)</b> and Decimal numbers <b>(float)*</b>"
   ]
  },
  {
   "cell_type": "code",
   "execution_count": 7,
   "id": "e54fada8",
   "metadata": {},
   "outputs": [
    {
     "data": {
      "text/plain": [
       "Rank              int64\n",
       "Name             object\n",
       "Platform         object\n",
       "Year            float64\n",
       "Genre            object\n",
       "Publisher        object\n",
       "NA_Sales        float64\n",
       "EU_Sales        float64\n",
       "JP_Sales        float64\n",
       "Other_Sales     float64\n",
       "Global_Sales    float64\n",
       "dtype: object"
      ]
     },
     "execution_count": 7,
     "metadata": {},
     "output_type": "execute_result"
    }
   ],
   "source": [
    "vg.dtypes"
   ]
  },
  {
   "cell_type": "markdown",
   "id": "d02a7ace",
   "metadata": {},
   "source": [
    "In column \"Year\" there is float, then in the next step after understand missing values, is necessary to change to int. "
   ]
  },
  {
   "cell_type": "markdown",
   "id": "ef42ae60",
   "metadata": {},
   "source": [
    "### 1.4 Missing Values and Duplicated Values<a name=\"1.4\"></a>"
   ]
  },
  {
   "cell_type": "markdown",
   "id": "2bbb448b",
   "metadata": {},
   "source": [
    "If we want to know if we have any duplicated row we use the next function:\n",
    "Vg is the name of the data set and the funcion is asking how many duplicates rows has in the Data set. No changing informations we created another variable just to understand and work separately the informations (duplicate_rows_vg). "
   ]
  },
  {
   "cell_type": "code",
   "execution_count": 8,
   "id": "f0d4e435",
   "metadata": {},
   "outputs": [
    {
     "name": "stdout",
     "output_type": "stream",
     "text": [
      "number of duplicated rows:  (0, 11)\n"
     ]
    }
   ],
   "source": [
    "duplicate_rows_vg = vg[vg.duplicated()]\n",
    "print (\"number of duplicated rows: \",duplicate_rows_vg.shape)"
   ]
  },
  {
   "cell_type": "code",
   "execution_count": null,
   "id": "66fc5e1a",
   "metadata": {},
   "outputs": [],
   "source": []
  },
  {
   "cell_type": "markdown",
   "id": "ede2aad7",
   "metadata": {},
   "source": [
    "We can have an idea if we have any missing value using count because this function shows how many attributes are in each observation. (pandas, 2018)"
   ]
  },
  {
   "cell_type": "code",
   "execution_count": 9,
   "id": "b0ac0bf6",
   "metadata": {},
   "outputs": [
    {
     "data": {
      "text/plain": [
       "Rank            16598\n",
       "Name            16598\n",
       "Platform        16598\n",
       "Year            16327\n",
       "Genre           16598\n",
       "Publisher       16540\n",
       "NA_Sales        16598\n",
       "EU_Sales        16598\n",
       "JP_Sales        16598\n",
       "Other_Sales     16598\n",
       "Global_Sales    16598\n",
       "dtype: int64"
      ]
     },
     "execution_count": 9,
     "metadata": {},
     "output_type": "execute_result"
    }
   ],
   "source": [
    "vg.count()"
   ]
  },
  {
   "cell_type": "markdown",
   "id": "41d28558",
   "metadata": {},
   "source": [
    "We can print how many missing values do we have in each column. The following code demonstrates that we have missing values in the columns <b>Year and Publisher</b> \n",
    "\n",
    "Pandas automatically return all cells with blank values or Na as NaN, but the code above we will explain why genre is not showing this missing values.\n",
    "(Sullivan, 2018)"
   ]
  },
  {
   "cell_type": "code",
   "execution_count": 10,
   "id": "dd03ec5b",
   "metadata": {
    "scrolled": true
   },
   "outputs": [
    {
     "name": "stdout",
     "output_type": "stream",
     "text": [
      "329\n"
     ]
    }
   ],
   "source": [
    "print (vg.isnull().sum().sum())"
   ]
  },
  {
   "cell_type": "code",
   "execution_count": 11,
   "id": "b018eefc",
   "metadata": {},
   "outputs": [
    {
     "name": "stdout",
     "output_type": "stream",
     "text": [
      "Rank              0\n",
      "Name              0\n",
      "Platform          0\n",
      "Year            271\n",
      "Genre             0\n",
      "Publisher        58\n",
      "NA_Sales          0\n",
      "EU_Sales          0\n",
      "JP_Sales          0\n",
      "Other_Sales       0\n",
      "Global_Sales      0\n",
      "dtype: int64\n"
     ]
    }
   ],
   "source": [
    "print (vg.isnull().sum())"
   ]
  },
  {
   "cell_type": "markdown",
   "id": "e6f8f62c",
   "metadata": {},
   "source": [
    "There are 271 null values in column \"Year\" and 58 in \"Publisher\""
   ]
  },
  {
   "cell_type": "markdown",
   "id": "16c56ad8",
   "metadata": {},
   "source": [
    "***"
   ]
  },
  {
   "cell_type": "markdown",
   "id": "3979c551",
   "metadata": {},
   "source": [
    "## 2. Applying Data Preparation<a name=\"2\"></a> "
   ]
  },
  {
   "cell_type": "markdown",
   "id": "46739469",
   "metadata": {},
   "source": [
    "### 2.1Replacing null values with mean<a name=\"2.1\"></a> \n",
    "    For the null values in the feature Year we decided to replace them with the mean (The average Year of the whole data set)\n",
    "    \n",
    "### 2.2 Drop Publisher<a name=\"2.2\"></a> \n",
    "    We dropped the feature Publisher because it is not needed for the study.\n"
   ]
  },
  {
   "cell_type": "code",
   "execution_count": 12,
   "id": "48971ed1",
   "metadata": {},
   "outputs": [],
   "source": [
    "vg.dropna(subset=[\"Publisher\"],inplace=True)\n",
    "vg[\"Year\"].fillna(vg[\"Year\"].median(),inplace=True)\n",
    "vg[\"Year\"]=vg[\"Year\"].astype(\"int64\")"
   ]
  },
  {
   "cell_type": "code",
   "execution_count": 13,
   "id": "1399dd9d",
   "metadata": {},
   "outputs": [
    {
     "name": "stdout",
     "output_type": "stream",
     "text": [
      "Rank            0\n",
      "Name            0\n",
      "Platform        0\n",
      "Year            0\n",
      "Genre           0\n",
      "Publisher       0\n",
      "NA_Sales        0\n",
      "EU_Sales        0\n",
      "JP_Sales        0\n",
      "Other_Sales     0\n",
      "Global_Sales    0\n",
      "dtype: int64\n"
     ]
    }
   ],
   "source": [
    "print (vg.isnull().sum())"
   ]
  },
  {
   "cell_type": "code",
   "execution_count": 14,
   "id": "a2b99a51",
   "metadata": {},
   "outputs": [
    {
     "name": "stdout",
     "output_type": "stream",
     "text": [
      "Number of rows with 0 values for each variable\n",
      "Rank: 0\n",
      "Name: 0\n",
      "Platform: 0\n",
      "Year: 0\n",
      "Genre: 0\n",
      "Publisher: 0\n",
      "NA_Sales: 4476\n",
      "EU_Sales: 5712\n",
      "JP_Sales: 10411\n",
      "Other_Sales: 6433\n",
      "Global_Sales: 0\n"
     ]
    }
   ],
   "source": [
    "print (\"Number of rows with 0 values for each variable\")\n",
    "for col in vg.columns:\n",
    "    missing_rows = vg.loc[vg[col] == 0].shape[0]\n",
    "    print (col + \": \" + str(missing_rows))"
   ]
  },
  {
   "cell_type": "markdown",
   "id": "e517ccab",
   "metadata": {},
   "source": [
    "Zeros are not the same as null values, with the next code we can know which columns contain <i>Zero values</i>.\n",
    "\n",
    "In this particular case, we do not want to standarize the data, as we can see, these zeros are on some of the <i>Sales</i> columns, which for our analysis is important to keep them, as they mean that in those countries a particular videogame was not sold."
   ]
  },
  {
   "cell_type": "markdown",
   "id": "cd7f1992",
   "metadata": {},
   "source": [
    "As we have missing values in other columns that are important, we replace all the types of missing values we can have in the data set as NaN."
   ]
  },
  {
   "cell_type": "markdown",
   "id": "7dd2da6d",
   "metadata": {},
   "source": [
    "With the next code we can know all the values that a particular column has."
   ]
  },
  {
   "cell_type": "code",
   "execution_count": 15,
   "id": "69bf198d",
   "metadata": {
    "scrolled": true
   },
   "outputs": [
    {
     "data": {
      "text/plain": [
       "<bound method Series.unique of 0          Nintendo\n",
       "1          Nintendo\n",
       "2          Nintendo\n",
       "3          Nintendo\n",
       "4          Nintendo\n",
       "            ...    \n",
       "16593         Kemco\n",
       "16594    Infogrames\n",
       "16595    Activision\n",
       "16596      7G//AMES\n",
       "16597       Wanadoo\n",
       "Name: Publisher, Length: 16540, dtype: object>"
      ]
     },
     "execution_count": 15,
     "metadata": {},
     "output_type": "execute_result"
    }
   ],
   "source": [
    "vg[\"Publisher\"].unique"
   ]
  },
  {
   "cell_type": "code",
   "execution_count": 16,
   "id": "fc05bcd1",
   "metadata": {
    "scrolled": true
   },
   "outputs": [
    {
     "data": {
      "text/plain": [
       "<bound method Series.unique of 0              Sports\n",
       "1            Platform\n",
       "2              Racing\n",
       "3              Sports\n",
       "4        Role-Playing\n",
       "             ...     \n",
       "16593        Platform\n",
       "16594         Shooter\n",
       "16595          Racing\n",
       "16596          Puzzle\n",
       "16597        Platform\n",
       "Name: Genre, Length: 16540, dtype: object>"
      ]
     },
     "execution_count": 16,
     "metadata": {},
     "output_type": "execute_result"
    }
   ],
   "source": [
    "vg[\"Genre\"].unique"
   ]
  },
  {
   "cell_type": "code",
   "execution_count": 17,
   "id": "ac4c6286",
   "metadata": {},
   "outputs": [
    {
     "data": {
      "text/plain": [
       "<bound method Series.unique of 0        2006\n",
       "1        1985\n",
       "2        2008\n",
       "3        2009\n",
       "4        1996\n",
       "         ... \n",
       "16593    2002\n",
       "16594    2003\n",
       "16595    2008\n",
       "16596    2010\n",
       "16597    2003\n",
       "Name: Year, Length: 16540, dtype: int64>"
      ]
     },
     "execution_count": 17,
     "metadata": {},
     "output_type": "execute_result"
    }
   ],
   "source": [
    "vg[\"Year\"].unique"
   ]
  },
  {
   "cell_type": "markdown",
   "id": "67075327",
   "metadata": {},
   "source": [
    "<b> Value counts</b> help us to know how many times a value occurs in the selected column. (Mode, 2016)"
   ]
  },
  {
   "cell_type": "code",
   "execution_count": 18,
   "id": "ecdb3e20",
   "metadata": {},
   "outputs": [
    {
     "data": {
      "text/plain": [
       "Electronic Arts                 1351\n",
       "Activision                       975\n",
       "Namco Bandai Games               932\n",
       "Ubisoft                          921\n",
       "Konami Digital Entertainment     832\n",
       "                                ... \n",
       "Vap                                1\n",
       "Panther Software                   1\n",
       "Square EA                          1\n",
       "Type-Moon                          1\n",
       "New                                1\n",
       "Name: Publisher, Length: 578, dtype: int64"
      ]
     },
     "execution_count": 18,
     "metadata": {},
     "output_type": "execute_result"
    }
   ],
   "source": [
    "vg[\"Publisher\"].value_counts()"
   ]
  },
  {
   "cell_type": "code",
   "execution_count": 19,
   "id": "50f8d280",
   "metadata": {},
   "outputs": [
    {
     "data": {
      "text/plain": [
       "2007    1450\n",
       "2009    1431\n",
       "2008    1428\n",
       "2010    1257\n",
       "2011    1136\n",
       "2006    1008\n",
       "2005     936\n",
       "2002     829\n",
       "2003     775\n",
       "2004     744\n",
       "2012     655\n",
       "2015     614\n",
       "2014     580\n",
       "2013     546\n",
       "2001     482\n",
       "1998     379\n",
       "2000     349\n",
       "2016     342\n",
       "1999     338\n",
       "1997     289\n",
       "1996     263\n",
       "1995     219\n",
       "1994     121\n",
       "1993      60\n",
       "1981      46\n",
       "1992      43\n",
       "1991      41\n",
       "1982      36\n",
       "1986      21\n",
       "1989      17\n",
       "1983      17\n",
       "1990      16\n",
       "1987      16\n",
       "1988      15\n",
       "1985      14\n",
       "1984      14\n",
       "1980       9\n",
       "2017       3\n",
       "2020       1\n",
       "Name: Year, dtype: int64"
      ]
     },
     "execution_count": 19,
     "metadata": {},
     "output_type": "execute_result"
    }
   ],
   "source": [
    "vg[\"Year\"].value_counts()"
   ]
  },
  {
   "cell_type": "code",
   "execution_count": 20,
   "id": "4cbd21e0",
   "metadata": {},
   "outputs": [
    {
     "data": {
      "text/plain": [
       "Action          3309\n",
       "Sports          2343\n",
       "Misc            1712\n",
       "Role-Playing    1486\n",
       "Shooter         1308\n",
       "Adventure       1282\n",
       "Racing          1248\n",
       "Platform         884\n",
       "Simulation       863\n",
       "Fighting         846\n",
       "Strategy         678\n",
       "Puzzle           581\n",
       "Name: Genre, dtype: int64"
      ]
     },
     "execution_count": 20,
     "metadata": {},
     "output_type": "execute_result"
    }
   ],
   "source": [
    "vg[\"Genre\"].value_counts()"
   ]
  },
  {
   "cell_type": "markdown",
   "id": "9935371c",
   "metadata": {},
   "source": [
    "***"
   ]
  },
  {
   "cell_type": "markdown",
   "id": "6296bc93",
   "metadata": {},
   "source": [
    "## 3. The 5 number Summary<a name=\"3\"></a> "
   ]
  },
  {
   "cell_type": "markdown",
   "id": "38180fc8",
   "metadata": {},
   "source": [
    "The <b> 5 Number Summary</b> combines five of the descriptive stats in one step. (Tylor, 2018)"
   ]
  },
  {
   "cell_type": "code",
   "execution_count": 21,
   "id": "6d0ff942",
   "metadata": {},
   "outputs": [
    {
     "data": {
      "text/html": [
       "<div>\n",
       "<style scoped>\n",
       "    .dataframe tbody tr th:only-of-type {\n",
       "        vertical-align: middle;\n",
       "    }\n",
       "\n",
       "    .dataframe tbody tr th {\n",
       "        vertical-align: top;\n",
       "    }\n",
       "\n",
       "    .dataframe thead th {\n",
       "        text-align: right;\n",
       "    }\n",
       "</style>\n",
       "<table border=\"1\" class=\"dataframe\">\n",
       "  <thead>\n",
       "    <tr style=\"text-align: right;\">\n",
       "      <th></th>\n",
       "      <th>Rank</th>\n",
       "      <th>Year</th>\n",
       "      <th>NA_Sales</th>\n",
       "      <th>EU_Sales</th>\n",
       "      <th>JP_Sales</th>\n",
       "      <th>Other_Sales</th>\n",
       "      <th>Global_Sales</th>\n",
       "    </tr>\n",
       "  </thead>\n",
       "  <tbody>\n",
       "    <tr>\n",
       "      <th>count</th>\n",
       "      <td>16540.000000</td>\n",
       "      <td>16540.000000</td>\n",
       "      <td>16540.000000</td>\n",
       "      <td>16540.000000</td>\n",
       "      <td>16540.000000</td>\n",
       "      <td>16540.000000</td>\n",
       "      <td>16540.000000</td>\n",
       "    </tr>\n",
       "    <tr>\n",
       "      <th>mean</th>\n",
       "      <td>8294.197642</td>\n",
       "      <td>2006.414510</td>\n",
       "      <td>0.265079</td>\n",
       "      <td>0.146883</td>\n",
       "      <td>0.077998</td>\n",
       "      <td>0.048191</td>\n",
       "      <td>0.538426</td>\n",
       "    </tr>\n",
       "    <tr>\n",
       "      <th>std</th>\n",
       "      <td>4790.703200</td>\n",
       "      <td>5.788794</td>\n",
       "      <td>0.817929</td>\n",
       "      <td>0.506129</td>\n",
       "      <td>0.309800</td>\n",
       "      <td>0.188879</td>\n",
       "      <td>1.557424</td>\n",
       "    </tr>\n",
       "    <tr>\n",
       "      <th>min</th>\n",
       "      <td>1.000000</td>\n",
       "      <td>1980.000000</td>\n",
       "      <td>0.000000</td>\n",
       "      <td>0.000000</td>\n",
       "      <td>0.000000</td>\n",
       "      <td>0.000000</td>\n",
       "      <td>0.010000</td>\n",
       "    </tr>\n",
       "    <tr>\n",
       "      <th>25%</th>\n",
       "      <td>4143.750000</td>\n",
       "      <td>2003.000000</td>\n",
       "      <td>0.000000</td>\n",
       "      <td>0.000000</td>\n",
       "      <td>0.000000</td>\n",
       "      <td>0.000000</td>\n",
       "      <td>0.060000</td>\n",
       "    </tr>\n",
       "    <tr>\n",
       "      <th>50%</th>\n",
       "      <td>8292.500000</td>\n",
       "      <td>2007.000000</td>\n",
       "      <td>0.080000</td>\n",
       "      <td>0.020000</td>\n",
       "      <td>0.000000</td>\n",
       "      <td>0.010000</td>\n",
       "      <td>0.170000</td>\n",
       "    </tr>\n",
       "    <tr>\n",
       "      <th>75%</th>\n",
       "      <td>12440.250000</td>\n",
       "      <td>2010.000000</td>\n",
       "      <td>0.240000</td>\n",
       "      <td>0.110000</td>\n",
       "      <td>0.040000</td>\n",
       "      <td>0.040000</td>\n",
       "      <td>0.480000</td>\n",
       "    </tr>\n",
       "    <tr>\n",
       "      <th>max</th>\n",
       "      <td>16600.000000</td>\n",
       "      <td>2020.000000</td>\n",
       "      <td>41.490000</td>\n",
       "      <td>29.020000</td>\n",
       "      <td>10.220000</td>\n",
       "      <td>10.570000</td>\n",
       "      <td>82.740000</td>\n",
       "    </tr>\n",
       "  </tbody>\n",
       "</table>\n",
       "</div>"
      ],
      "text/plain": [
       "               Rank          Year      NA_Sales      EU_Sales      JP_Sales  \\\n",
       "count  16540.000000  16540.000000  16540.000000  16540.000000  16540.000000   \n",
       "mean    8294.197642   2006.414510      0.265079      0.146883      0.077998   \n",
       "std     4790.703200      5.788794      0.817929      0.506129      0.309800   \n",
       "min        1.000000   1980.000000      0.000000      0.000000      0.000000   \n",
       "25%     4143.750000   2003.000000      0.000000      0.000000      0.000000   \n",
       "50%     8292.500000   2007.000000      0.080000      0.020000      0.000000   \n",
       "75%    12440.250000   2010.000000      0.240000      0.110000      0.040000   \n",
       "max    16600.000000   2020.000000     41.490000     29.020000     10.220000   \n",
       "\n",
       "        Other_Sales  Global_Sales  \n",
       "count  16540.000000  16540.000000  \n",
       "mean       0.048191      0.538426  \n",
       "std        0.188879      1.557424  \n",
       "min        0.000000      0.010000  \n",
       "25%        0.000000      0.060000  \n",
       "50%        0.010000      0.170000  \n",
       "75%        0.040000      0.480000  \n",
       "max       10.570000     82.740000  "
      ]
     },
     "execution_count": 21,
     "metadata": {},
     "output_type": "execute_result"
    }
   ],
   "source": [
    "vg.describe()"
   ]
  },
  {
   "cell_type": "code",
   "execution_count": 22,
   "id": "41a96978",
   "metadata": {},
   "outputs": [
    {
     "data": {
      "text/html": [
       "<div>\n",
       "<style scoped>\n",
       "    .dataframe tbody tr th:only-of-type {\n",
       "        vertical-align: middle;\n",
       "    }\n",
       "\n",
       "    .dataframe tbody tr th {\n",
       "        vertical-align: top;\n",
       "    }\n",
       "\n",
       "    .dataframe thead th {\n",
       "        text-align: right;\n",
       "    }\n",
       "</style>\n",
       "<table border=\"1\" class=\"dataframe\">\n",
       "  <thead>\n",
       "    <tr style=\"text-align: right;\">\n",
       "      <th></th>\n",
       "      <th>Name</th>\n",
       "      <th>Platform</th>\n",
       "      <th>Genre</th>\n",
       "      <th>Publisher</th>\n",
       "    </tr>\n",
       "  </thead>\n",
       "  <tbody>\n",
       "    <tr>\n",
       "      <th>count</th>\n",
       "      <td>16540</td>\n",
       "      <td>16540</td>\n",
       "      <td>16540</td>\n",
       "      <td>16540</td>\n",
       "    </tr>\n",
       "    <tr>\n",
       "      <th>unique</th>\n",
       "      <td>11442</td>\n",
       "      <td>31</td>\n",
       "      <td>12</td>\n",
       "      <td>578</td>\n",
       "    </tr>\n",
       "    <tr>\n",
       "      <th>top</th>\n",
       "      <td>Need for Speed: Most Wanted</td>\n",
       "      <td>PS2</td>\n",
       "      <td>Action</td>\n",
       "      <td>Electronic Arts</td>\n",
       "    </tr>\n",
       "    <tr>\n",
       "      <th>freq</th>\n",
       "      <td>12</td>\n",
       "      <td>2159</td>\n",
       "      <td>3309</td>\n",
       "      <td>1351</td>\n",
       "    </tr>\n",
       "  </tbody>\n",
       "</table>\n",
       "</div>"
      ],
      "text/plain": [
       "                               Name Platform   Genre        Publisher\n",
       "count                         16540    16540   16540            16540\n",
       "unique                        11442       31      12              578\n",
       "top     Need for Speed: Most Wanted      PS2  Action  Electronic Arts\n",
       "freq                             12     2159    3309             1351"
      ]
     },
     "execution_count": 22,
     "metadata": {},
     "output_type": "execute_result"
    }
   ],
   "source": [
    "vg.describe(include=object)"
   ]
  },
  {
   "cell_type": "code",
   "execution_count": 23,
   "id": "9c18824d",
   "metadata": {},
   "outputs": [
    {
     "data": {
      "text/html": [
       "<div>\n",
       "<style scoped>\n",
       "    .dataframe tbody tr th:only-of-type {\n",
       "        vertical-align: middle;\n",
       "    }\n",
       "\n",
       "    .dataframe tbody tr th {\n",
       "        vertical-align: top;\n",
       "    }\n",
       "\n",
       "    .dataframe thead th {\n",
       "        text-align: right;\n",
       "    }\n",
       "</style>\n",
       "<table border=\"1\" class=\"dataframe\">\n",
       "  <thead>\n",
       "    <tr style=\"text-align: right;\">\n",
       "      <th></th>\n",
       "      <th>Rank</th>\n",
       "      <th>Name</th>\n",
       "      <th>Platform</th>\n",
       "      <th>Year</th>\n",
       "      <th>Genre</th>\n",
       "      <th>Publisher</th>\n",
       "      <th>NA_Sales</th>\n",
       "      <th>EU_Sales</th>\n",
       "      <th>JP_Sales</th>\n",
       "      <th>Other_Sales</th>\n",
       "      <th>Global_Sales</th>\n",
       "    </tr>\n",
       "  </thead>\n",
       "  <tbody>\n",
       "    <tr>\n",
       "      <th>0</th>\n",
       "      <td>1</td>\n",
       "      <td>Wii Sports</td>\n",
       "      <td>Wii</td>\n",
       "      <td>2006</td>\n",
       "      <td>Sports</td>\n",
       "      <td>Nintendo</td>\n",
       "      <td>41.49</td>\n",
       "      <td>29.02</td>\n",
       "      <td>3.77</td>\n",
       "      <td>8.46</td>\n",
       "      <td>82.74</td>\n",
       "    </tr>\n",
       "    <tr>\n",
       "      <th>1</th>\n",
       "      <td>2</td>\n",
       "      <td>Super Mario Bros.</td>\n",
       "      <td>NES</td>\n",
       "      <td>1985</td>\n",
       "      <td>Platform</td>\n",
       "      <td>Nintendo</td>\n",
       "      <td>29.08</td>\n",
       "      <td>3.58</td>\n",
       "      <td>6.81</td>\n",
       "      <td>0.77</td>\n",
       "      <td>40.24</td>\n",
       "    </tr>\n",
       "    <tr>\n",
       "      <th>2</th>\n",
       "      <td>3</td>\n",
       "      <td>Mario Kart Wii</td>\n",
       "      <td>Wii</td>\n",
       "      <td>2008</td>\n",
       "      <td>Racing</td>\n",
       "      <td>Nintendo</td>\n",
       "      <td>15.85</td>\n",
       "      <td>12.88</td>\n",
       "      <td>3.79</td>\n",
       "      <td>3.31</td>\n",
       "      <td>35.82</td>\n",
       "    </tr>\n",
       "    <tr>\n",
       "      <th>3</th>\n",
       "      <td>4</td>\n",
       "      <td>Wii Sports Resort</td>\n",
       "      <td>Wii</td>\n",
       "      <td>2009</td>\n",
       "      <td>Sports</td>\n",
       "      <td>Nintendo</td>\n",
       "      <td>15.75</td>\n",
       "      <td>11.01</td>\n",
       "      <td>3.28</td>\n",
       "      <td>2.96</td>\n",
       "      <td>33.00</td>\n",
       "    </tr>\n",
       "    <tr>\n",
       "      <th>4</th>\n",
       "      <td>5</td>\n",
       "      <td>Pokemon Red/Pokemon Blue</td>\n",
       "      <td>GB</td>\n",
       "      <td>1996</td>\n",
       "      <td>Role-Playing</td>\n",
       "      <td>Nintendo</td>\n",
       "      <td>11.27</td>\n",
       "      <td>8.89</td>\n",
       "      <td>10.22</td>\n",
       "      <td>1.00</td>\n",
       "      <td>31.37</td>\n",
       "    </tr>\n",
       "  </tbody>\n",
       "</table>\n",
       "</div>"
      ],
      "text/plain": [
       "   Rank                      Name Platform  Year         Genre Publisher  \\\n",
       "0     1                Wii Sports      Wii  2006        Sports  Nintendo   \n",
       "1     2         Super Mario Bros.      NES  1985      Platform  Nintendo   \n",
       "2     3            Mario Kart Wii      Wii  2008        Racing  Nintendo   \n",
       "3     4         Wii Sports Resort      Wii  2009        Sports  Nintendo   \n",
       "4     5  Pokemon Red/Pokemon Blue       GB  1996  Role-Playing  Nintendo   \n",
       "\n",
       "   NA_Sales  EU_Sales  JP_Sales  Other_Sales  Global_Sales  \n",
       "0     41.49     29.02      3.77         8.46         82.74  \n",
       "1     29.08      3.58      6.81         0.77         40.24  \n",
       "2     15.85     12.88      3.79         3.31         35.82  \n",
       "3     15.75     11.01      3.28         2.96         33.00  \n",
       "4     11.27      8.89     10.22         1.00         31.37  "
      ]
     },
     "execution_count": 23,
     "metadata": {},
     "output_type": "execute_result"
    }
   ],
   "source": [
    "vg.head()"
   ]
  },
  {
   "cell_type": "markdown",
   "id": "62b19326",
   "metadata": {},
   "source": [
    "### Mode\n",
    "    Mode is the function that shows the most popular value in certain Feature"
   ]
  },
  {
   "cell_type": "code",
   "execution_count": 24,
   "id": "7712aab3",
   "metadata": {},
   "outputs": [
    {
     "name": "stdout",
     "output_type": "stream",
     "text": [
      "- Name:  0    Need for Speed: Most Wanted\n",
      "dtype: object\n",
      "\n",
      "- Platform:  0    PS2\n",
      "dtype: object\n",
      "\n",
      "- Year:  0    2007\n",
      "dtype: int64\n",
      "\n",
      "- Genre:  0    Action\n",
      "dtype: object\n",
      "\n",
      "- Publisher:  0    Electronic Arts\n",
      "dtype: object\n",
      "\n",
      "- EU_Sales:  0    0.0\n",
      "dtype: float64\n",
      "\n",
      "- EU_Sales:  0    0.0\n",
      "dtype: float64\n",
      "\n",
      "- JP_Sales:  0    0.0\n",
      "dtype: float64\n",
      "\n",
      "- Other_Sales:  0    0.0\n",
      "dtype: float64\n",
      "\n",
      "- Global_Sales:  0    0.02\n",
      "dtype: float64\n",
      "\n"
     ]
    }
   ],
   "source": [
    "name_mode =vg[\"Name\"].mode()\n",
    "print (\"- Name: \",name_mode)\n",
    "print()\n",
    "Pmode =vg[\"Platform\"].mode()\n",
    "print (\"- Platform: \",Pmode)\n",
    "print()\n",
    "Yearmode =vg[\"Year\"].mode()\n",
    "print (\"- Year: \",Yearmode)\n",
    "print()\n",
    "Genremode =vg[\"Genre\"].mode()\n",
    "print (\"- Genre: \",Genremode)\n",
    "print()\n",
    "Pumode =vg[\"Publisher\"].mode()\n",
    "print (\"- Publisher: \",Pumode)\n",
    "print()\n",
    "Nasalesmode =vg[\"NA_Sales\"].mode()\n",
    "print (\"- EU_Sales: \",Nasalesmode)\n",
    "print()\n",
    "Eusalesmode =vg[\"EU_Sales\"].mode()\n",
    "print (\"- EU_Sales: \",Eusalesmode)\n",
    "print()\n",
    "Jpsalesmode =vg[\"JP_Sales\"].mode()\n",
    "print (\"- JP_Sales: \",Jpsalesmode)\n",
    "print()\n",
    "Osalesmode =vg[\"Other_Sales\"].mode()\n",
    "print (\"- Other_Sales: \",Osalesmode)\n",
    "print()\n",
    "Gbsalesmode =vg[\"Global_Sales\"].mode()\n",
    "print (\"- Global_Sales: \",Gbsalesmode)\n",
    "print()\n",
    "\n"
   ]
  },
  {
   "cell_type": "markdown",
   "id": "00a83e88",
   "metadata": {},
   "source": [
    "***"
   ]
  },
  {
   "cell_type": "markdown",
   "id": "e6a9a84b",
   "metadata": {},
   "source": [
    "## 4. Using Correlation<a name=\"4\"></a> \n",
    "    Correlation help us to understand what is the correlation between each variable with each observation. E.g. Correlation between Year and Rank"
   ]
  },
  {
   "cell_type": "code",
   "execution_count": 25,
   "id": "ef9e7d36",
   "metadata": {},
   "outputs": [
    {
     "data": {
      "text/html": [
       "<div>\n",
       "<style scoped>\n",
       "    .dataframe tbody tr th:only-of-type {\n",
       "        vertical-align: middle;\n",
       "    }\n",
       "\n",
       "    .dataframe tbody tr th {\n",
       "        vertical-align: top;\n",
       "    }\n",
       "\n",
       "    .dataframe thead th {\n",
       "        text-align: right;\n",
       "    }\n",
       "</style>\n",
       "<table border=\"1\" class=\"dataframe\">\n",
       "  <thead>\n",
       "    <tr style=\"text-align: right;\">\n",
       "      <th></th>\n",
       "      <th>Rank</th>\n",
       "      <th>Year</th>\n",
       "      <th>NA_Sales</th>\n",
       "      <th>EU_Sales</th>\n",
       "      <th>JP_Sales</th>\n",
       "      <th>Other_Sales</th>\n",
       "      <th>Global_Sales</th>\n",
       "    </tr>\n",
       "  </thead>\n",
       "  <tbody>\n",
       "    <tr>\n",
       "      <th>Rank</th>\n",
       "      <td>1.000000</td>\n",
       "      <td>0.176825</td>\n",
       "      <td>-0.401236</td>\n",
       "      <td>-0.379068</td>\n",
       "      <td>-0.268056</td>\n",
       "      <td>-0.333081</td>\n",
       "      <td>-0.427391</td>\n",
       "    </tr>\n",
       "    <tr>\n",
       "      <th>Year</th>\n",
       "      <td>0.176825</td>\n",
       "      <td>1.000000</td>\n",
       "      <td>-0.091157</td>\n",
       "      <td>0.005930</td>\n",
       "      <td>-0.169495</td>\n",
       "      <td>0.040949</td>\n",
       "      <td>-0.074710</td>\n",
       "    </tr>\n",
       "    <tr>\n",
       "      <th>NA_Sales</th>\n",
       "      <td>-0.401236</td>\n",
       "      <td>-0.091157</td>\n",
       "      <td>1.000000</td>\n",
       "      <td>0.767672</td>\n",
       "      <td>0.449864</td>\n",
       "      <td>0.634651</td>\n",
       "      <td>0.941036</td>\n",
       "    </tr>\n",
       "    <tr>\n",
       "      <th>EU_Sales</th>\n",
       "      <td>-0.379068</td>\n",
       "      <td>0.005930</td>\n",
       "      <td>0.767672</td>\n",
       "      <td>1.000000</td>\n",
       "      <td>0.435658</td>\n",
       "      <td>0.726326</td>\n",
       "      <td>0.902817</td>\n",
       "    </tr>\n",
       "    <tr>\n",
       "      <th>JP_Sales</th>\n",
       "      <td>-0.268056</td>\n",
       "      <td>-0.169495</td>\n",
       "      <td>0.449864</td>\n",
       "      <td>0.435658</td>\n",
       "      <td>1.000000</td>\n",
       "      <td>0.290150</td>\n",
       "      <td>0.611893</td>\n",
       "    </tr>\n",
       "    <tr>\n",
       "      <th>Other_Sales</th>\n",
       "      <td>-0.333081</td>\n",
       "      <td>0.040949</td>\n",
       "      <td>0.634651</td>\n",
       "      <td>0.726326</td>\n",
       "      <td>0.290150</td>\n",
       "      <td>1.000000</td>\n",
       "      <td>0.748260</td>\n",
       "    </tr>\n",
       "    <tr>\n",
       "      <th>Global_Sales</th>\n",
       "      <td>-0.427391</td>\n",
       "      <td>-0.074710</td>\n",
       "      <td>0.941036</td>\n",
       "      <td>0.902817</td>\n",
       "      <td>0.611893</td>\n",
       "      <td>0.748260</td>\n",
       "      <td>1.000000</td>\n",
       "    </tr>\n",
       "  </tbody>\n",
       "</table>\n",
       "</div>"
      ],
      "text/plain": [
       "                  Rank      Year  NA_Sales  EU_Sales  JP_Sales  Other_Sales  \\\n",
       "Rank          1.000000  0.176825 -0.401236 -0.379068 -0.268056    -0.333081   \n",
       "Year          0.176825  1.000000 -0.091157  0.005930 -0.169495     0.040949   \n",
       "NA_Sales     -0.401236 -0.091157  1.000000  0.767672  0.449864     0.634651   \n",
       "EU_Sales     -0.379068  0.005930  0.767672  1.000000  0.435658     0.726326   \n",
       "JP_Sales     -0.268056 -0.169495  0.449864  0.435658  1.000000     0.290150   \n",
       "Other_Sales  -0.333081  0.040949  0.634651  0.726326  0.290150     1.000000   \n",
       "Global_Sales -0.427391 -0.074710  0.941036  0.902817  0.611893     0.748260   \n",
       "\n",
       "              Global_Sales  \n",
       "Rank             -0.427391  \n",
       "Year             -0.074710  \n",
       "NA_Sales          0.941036  \n",
       "EU_Sales          0.902817  \n",
       "JP_Sales          0.611893  \n",
       "Other_Sales       0.748260  \n",
       "Global_Sales      1.000000  "
      ]
     },
     "execution_count": 25,
     "metadata": {},
     "output_type": "execute_result"
    }
   ],
   "source": [
    "vg.corr()"
   ]
  },
  {
   "cell_type": "markdown",
   "id": "3a09982b",
   "metadata": {},
   "source": [
    "***"
   ]
  },
  {
   "cell_type": "markdown",
   "id": "175d0ae7",
   "metadata": {},
   "source": [
    "## 5. Visualization<a name=\"5\"></a> "
   ]
  },
  {
   "cell_type": "markdown",
   "id": "05cc2c09",
   "metadata": {},
   "source": [
    "Uderstanding the variables:\n",
    "\n",
    "    For the study we are performing: \n",
    "    How European Sales can be predicted by Genre of the video game, Platform and Year it was released.\n",
    "    More than one variable are not neccesary, such as Rank or Name of the Videogame. \n",
    "     \n",
    "    \n",
    "Platform - Platform of the games release (i.e. PC,PS4, etc.)\n",
    "\n",
    "Year - Year of the game's release\n",
    "\n",
    "Genre - Genre of the game\n",
    "\n",
    "Publisher - Publisher of the game\n",
    "\n",
    "NA_Sales - Sales in North America (in millions)\n",
    "\n",
    "EU_Sales - Sales in Europe (in millions)\n",
    "\n",
    "JP_Sales - Sales in Japan (in millions)\n",
    "\n",
    "Other_Sales - Sales in the rest of the world (in millions)\n",
    "\n",
    "Global_Sales - Total worldwide sales."
   ]
  },
  {
   "cell_type": "markdown",
   "id": "9c0525b7",
   "metadata": {},
   "source": [
    "### 5.1 Heatmap<a name=\"5.1\"></a>\n",
    "    A heatmap help us to visualize the correlation between variables. Those with darker color are those who are more corerelated and the clearer ones are those with less correlation. \n",
    "    It is important to mention that the diagonal with darker color and a 1 is the most related because it is correlating the same variabe with itself. This means that the upper diagram is a mirror of the lower one."
   ]
  },
  {
   "cell_type": "code",
   "execution_count": 26,
   "id": "c6c62bcd",
   "metadata": {},
   "outputs": [
    {
     "data": {
      "image/png": "[encoded data removed]",
      "text/plain": [
       "<Figure size 720x432 with 2 Axes>"
      ]
     },
     "metadata": {
      "needs_background": "light"
     },
     "output_type": "display_data"
    }
   ],
   "source": [
    "plt.figure(figsize=(10,6))\n",
    "cor = vg.corr()\n",
    "sns.heatmap(cor, annot=True, cmap=plt.cm.Reds)\n",
    "plt.show()\n"
   ]
  },
  {
   "cell_type": "markdown",
   "id": "47be0339",
   "metadata": {},
   "source": [
    "### 5.2 Droping columns <a name=\"5.2\"></a> \n",
    "    As mention before, some columns are not useful to predict European Sales, such as Rank or Publisher, that is why we remove them.\n",
    "    After removing these variables, we rename our dataset as Euro_Games."
   ]
  },
  {
   "cell_type": "code",
   "execution_count": 27,
   "id": "e254ca24",
   "metadata": {},
   "outputs": [],
   "source": [
    "Euro_Games = vg.drop(columns=[\"Rank\",\"Publisher\",\"JP_Sales\"], axis=1)"
   ]
  },
  {
   "cell_type": "code",
   "execution_count": 28,
   "id": "2c8ba956",
   "metadata": {},
   "outputs": [
    {
     "data": {
      "text/html": [
       "<div>\n",
       "<style scoped>\n",
       "    .dataframe tbody tr th:only-of-type {\n",
       "        vertical-align: middle;\n",
       "    }\n",
       "\n",
       "    .dataframe tbody tr th {\n",
       "        vertical-align: top;\n",
       "    }\n",
       "\n",
       "    .dataframe thead th {\n",
       "        text-align: right;\n",
       "    }\n",
       "</style>\n",
       "<table border=\"1\" class=\"dataframe\">\n",
       "  <thead>\n",
       "    <tr style=\"text-align: right;\">\n",
       "      <th></th>\n",
       "      <th>Name</th>\n",
       "      <th>Platform</th>\n",
       "      <th>Year</th>\n",
       "      <th>Genre</th>\n",
       "      <th>NA_Sales</th>\n",
       "      <th>EU_Sales</th>\n",
       "      <th>Other_Sales</th>\n",
       "      <th>Global_Sales</th>\n",
       "    </tr>\n",
       "  </thead>\n",
       "  <tbody>\n",
       "    <tr>\n",
       "      <th>0</th>\n",
       "      <td>Wii Sports</td>\n",
       "      <td>Wii</td>\n",
       "      <td>2006</td>\n",
       "      <td>Sports</td>\n",
       "      <td>41.49</td>\n",
       "      <td>29.02</td>\n",
       "      <td>8.46</td>\n",
       "      <td>82.74</td>\n",
       "    </tr>\n",
       "    <tr>\n",
       "      <th>1</th>\n",
       "      <td>Super Mario Bros.</td>\n",
       "      <td>NES</td>\n",
       "      <td>1985</td>\n",
       "      <td>Platform</td>\n",
       "      <td>29.08</td>\n",
       "      <td>3.58</td>\n",
       "      <td>0.77</td>\n",
       "      <td>40.24</td>\n",
       "    </tr>\n",
       "    <tr>\n",
       "      <th>2</th>\n",
       "      <td>Mario Kart Wii</td>\n",
       "      <td>Wii</td>\n",
       "      <td>2008</td>\n",
       "      <td>Racing</td>\n",
       "      <td>15.85</td>\n",
       "      <td>12.88</td>\n",
       "      <td>3.31</td>\n",
       "      <td>35.82</td>\n",
       "    </tr>\n",
       "    <tr>\n",
       "      <th>3</th>\n",
       "      <td>Wii Sports Resort</td>\n",
       "      <td>Wii</td>\n",
       "      <td>2009</td>\n",
       "      <td>Sports</td>\n",
       "      <td>15.75</td>\n",
       "      <td>11.01</td>\n",
       "      <td>2.96</td>\n",
       "      <td>33.00</td>\n",
       "    </tr>\n",
       "    <tr>\n",
       "      <th>4</th>\n",
       "      <td>Pokemon Red/Pokemon Blue</td>\n",
       "      <td>GB</td>\n",
       "      <td>1996</td>\n",
       "      <td>Role-Playing</td>\n",
       "      <td>11.27</td>\n",
       "      <td>8.89</td>\n",
       "      <td>1.00</td>\n",
       "      <td>31.37</td>\n",
       "    </tr>\n",
       "    <tr>\n",
       "      <th>...</th>\n",
       "      <td>...</td>\n",
       "      <td>...</td>\n",
       "      <td>...</td>\n",
       "      <td>...</td>\n",
       "      <td>...</td>\n",
       "      <td>...</td>\n",
       "      <td>...</td>\n",
       "      <td>...</td>\n",
       "    </tr>\n",
       "    <tr>\n",
       "      <th>16593</th>\n",
       "      <td>Woody Woodpecker in Crazy Castle 5</td>\n",
       "      <td>GBA</td>\n",
       "      <td>2002</td>\n",
       "      <td>Platform</td>\n",
       "      <td>0.01</td>\n",
       "      <td>0.00</td>\n",
       "      <td>0.00</td>\n",
       "      <td>0.01</td>\n",
       "    </tr>\n",
       "    <tr>\n",
       "      <th>16594</th>\n",
       "      <td>Men in Black II: Alien Escape</td>\n",
       "      <td>GC</td>\n",
       "      <td>2003</td>\n",
       "      <td>Shooter</td>\n",
       "      <td>0.01</td>\n",
       "      <td>0.00</td>\n",
       "      <td>0.00</td>\n",
       "      <td>0.01</td>\n",
       "    </tr>\n",
       "    <tr>\n",
       "      <th>16595</th>\n",
       "      <td>SCORE International Baja 1000: The Official Game</td>\n",
       "      <td>PS2</td>\n",
       "      <td>2008</td>\n",
       "      <td>Racing</td>\n",
       "      <td>0.00</td>\n",
       "      <td>0.00</td>\n",
       "      <td>0.00</td>\n",
       "      <td>0.01</td>\n",
       "    </tr>\n",
       "    <tr>\n",
       "      <th>16596</th>\n",
       "      <td>Know How 2</td>\n",
       "      <td>DS</td>\n",
       "      <td>2010</td>\n",
       "      <td>Puzzle</td>\n",
       "      <td>0.00</td>\n",
       "      <td>0.01</td>\n",
       "      <td>0.00</td>\n",
       "      <td>0.01</td>\n",
       "    </tr>\n",
       "    <tr>\n",
       "      <th>16597</th>\n",
       "      <td>Spirits &amp; Spells</td>\n",
       "      <td>GBA</td>\n",
       "      <td>2003</td>\n",
       "      <td>Platform</td>\n",
       "      <td>0.01</td>\n",
       "      <td>0.00</td>\n",
       "      <td>0.00</td>\n",
       "      <td>0.01</td>\n",
       "    </tr>\n",
       "  </tbody>\n",
       "</table>\n",
       "<p>16540 rows × 8 columns</p>\n",
       "</div>"
      ],
      "text/plain": [
       "                                                   Name Platform  Year  \\\n",
       "0                                            Wii Sports      Wii  2006   \n",
       "1                                     Super Mario Bros.      NES  1985   \n",
       "2                                        Mario Kart Wii      Wii  2008   \n",
       "3                                     Wii Sports Resort      Wii  2009   \n",
       "4                              Pokemon Red/Pokemon Blue       GB  1996   \n",
       "...                                                 ...      ...   ...   \n",
       "16593                Woody Woodpecker in Crazy Castle 5      GBA  2002   \n",
       "16594                     Men in Black II: Alien Escape       GC  2003   \n",
       "16595  SCORE International Baja 1000: The Official Game      PS2  2008   \n",
       "16596                                        Know How 2       DS  2010   \n",
       "16597                                  Spirits & Spells      GBA  2003   \n",
       "\n",
       "              Genre  NA_Sales  EU_Sales  Other_Sales  Global_Sales  \n",
       "0            Sports     41.49     29.02         8.46         82.74  \n",
       "1          Platform     29.08      3.58         0.77         40.24  \n",
       "2            Racing     15.85     12.88         3.31         35.82  \n",
       "3            Sports     15.75     11.01         2.96         33.00  \n",
       "4      Role-Playing     11.27      8.89         1.00         31.37  \n",
       "...             ...       ...       ...          ...           ...  \n",
       "16593      Platform      0.01      0.00         0.00          0.01  \n",
       "16594       Shooter      0.01      0.00         0.00          0.01  \n",
       "16595        Racing      0.00      0.00         0.00          0.01  \n",
       "16596        Puzzle      0.00      0.01         0.00          0.01  \n",
       "16597      Platform      0.01      0.00         0.00          0.01  \n",
       "\n",
       "[16540 rows x 8 columns]"
      ]
     },
     "execution_count": 28,
     "metadata": {},
     "output_type": "execute_result"
    }
   ],
   "source": [
    "Euro_Games"
   ]
  },
  {
   "cell_type": "markdown",
   "id": "c9695ccc",
   "metadata": {},
   "source": [
    "***"
   ]
  },
  {
   "cell_type": "markdown",
   "id": "dcc95693",
   "metadata": {},
   "source": [
    "## 6. EDA Visualization <a name=\"6\"></a>"
   ]
  },
  {
   "cell_type": "markdown",
   "id": "d630a018",
   "metadata": {},
   "source": [
    "### 6.1 European Sales and Games<a name=\"6.1\"></a>"
   ]
  },
  {
   "cell_type": "markdown",
   "id": "c6466e1e",
   "metadata": {},
   "source": [
    "Just for visualization and a better undertand of the data, we are showing the best 10 videogames sold in Europe. \n"
   ]
  },
  {
   "cell_type": "code",
   "execution_count": 29,
   "id": "81189b46",
   "metadata": {},
   "outputs": [
    {
     "data": {
      "text/plain": [
       "(array([0, 1, 2, 3, 4, 5, 6, 7, 8, 9]),\n",
       " [Text(0, 0, 'Wii Sports'),\n",
       "  Text(1, 0, 'Mario Kart Wii'),\n",
       "  Text(2, 0, 'Wii Sports Resort'),\n",
       "  Text(3, 0, 'Nintendogs'),\n",
       "  Text(4, 0, 'Grand Theft Auto V'),\n",
       "  Text(5, 0, 'Brain Age: Train Your Brain in Minutes a Day'),\n",
       "  Text(6, 0, 'New Super Mario Bros.'),\n",
       "  Text(7, 0, 'Wii Play'),\n",
       "  Text(8, 0, 'Pokemon Red/Pokemon Blue'),\n",
       "  Text(9, 0, 'Wii Fit Plus')])"
      ]
     },
     "execution_count": 29,
     "metadata": {},
     "output_type": "execute_result"
    },
    {
     "data": {
      "image/png": "[encoded data removed]",
      "text/plain": [
       "<Figure size 720x360 with 1 Axes>"
      ]
     },
     "metadata": {
      "needs_background": "light"
     },
     "output_type": "display_data"
    }
   ],
   "source": [
    "vg_Eu = Euro_Games.sort_values('EU_Sales', ascending = False).head(10)\n",
    "plt.figure(figsize = (10,5))\n",
    "sns.barplot(data = vg_Eu, x = 'Name', y = 'EU_Sales')\n",
    "\n",
    "plt.tight_layout()\n",
    "plt.title('European Sales by Games')\n",
    "plt.xlabel('Game')\n",
    "plt.xticks(rotation = 45)"
   ]
  },
  {
   "cell_type": "markdown",
   "id": "35739072",
   "metadata": {},
   "source": [
    "### 6.2 European Sales and Genre<a name=\"6.2\"></a>"
   ]
  },
  {
   "cell_type": "markdown",
   "id": "0d21a218",
   "metadata": {},
   "source": [
    "We used a plot.bar to show the the frequency between Genre and European Sales."
   ]
  },
  {
   "cell_type": "code",
   "execution_count": 30,
   "id": "51feef34",
   "metadata": {},
   "outputs": [
    {
     "data": {
      "image/png": "[encoded data removed]",
      "text/plain": [
       "<Figure size 1080x360 with 1 Axes>"
      ]
     },
     "metadata": {
      "needs_background": "light"
     },
     "output_type": "display_data"
    }
   ],
   "source": [
    "vg_Eu.groupby(\"Genre\")[\"EU_Sales\"].sum().sort_values(ascending=False).plot.bar(figsize=(15, 5),ylabel=\"European Sales in millions of copies\")\n",
    "plt.show()"
   ]
  },
  {
   "cell_type": "markdown",
   "id": "20bdd792",
   "metadata": {},
   "source": [
    "### 6.3 Genre<a name=\"6.3\"></a>"
   ]
  },
  {
   "cell_type": "markdown",
   "id": "7e75d42e",
   "metadata": {},
   "source": [
    "To visualize how Genre is sold in Europe we had to import more libraries. The function used is from library plotly. As used a countplot function that show us the counts of observations in each categorical value using bars. And using Value_Counts to sum all results froom each comum value. "
   ]
  },
  {
   "cell_type": "code",
   "execution_count": 31,
   "id": "473cbdca",
   "metadata": {},
   "outputs": [],
   "source": [
    "#!pip install plotly\n",
    "#!pip install cufflinks"
   ]
  },
  {
   "cell_type": "code",
   "execution_count": 32,
   "id": "47bf9bac",
   "metadata": {},
   "outputs": [],
   "source": [
    "import matplotlib.pyplot as plt \n",
    "import plotly.express as px\n",
    "import plotly.graph_objects as go\n",
    "import seaborn as sns\n",
    "from plotly import tools\n",
    "from plotly.subplots import make_subplots"
   ]
  },
  {
   "cell_type": "code",
   "execution_count": 33,
   "id": "83c97f63",
   "metadata": {},
   "outputs": [
    {
     "data": {
      "text/plain": [
       "<AxesSubplot:xlabel='Genre', ylabel='count'>"
      ]
     },
     "execution_count": 33,
     "metadata": {},
     "output_type": "execute_result"
    },
    {
     "data": {
      "image/png": "[encoded data removed]",
      "text/plain": [
       "<Figure size 864x432 with 1 Axes>"
      ]
     },
     "metadata": {
      "needs_background": "light"
     },
     "output_type": "display_data"
    }
   ],
   "source": [
    "plt.figure(figsize=(12, 6))\n",
    "sns.countplot(x=\"Genre\", data=Euro_Games, order = Euro_Games['Genre'].value_counts().index)"
   ]
  },
  {
   "cell_type": "markdown",
   "id": "ad004024",
   "metadata": {},
   "source": [
    "\n",
    "Genre = Euro_Games['Genre'].value_counts()\n",
    "fig = px.pie(names=genre.index, values=Genre, title='Genre Distribution')\n",
    "fig.show()"
   ]
  },
  {
   "cell_type": "markdown",
   "id": "461f8d55",
   "metadata": {},
   "source": [
    "### 6.4 European Sales/Global Sales and Year<a name=\"6.4\"></a>"
   ]
  },
  {
   "cell_type": "markdown",
   "id": "6227b733",
   "metadata": {},
   "source": [
    "The next graph shows how North American Sales and European Sales performed among Global Sales. As we can see, NA sales are higher than those in Europe. But both have a peak around 2007."
   ]
  },
  {
   "cell_type": "code",
   "execution_count": 34,
   "id": "e2f7d3cd",
   "metadata": {},
   "outputs": [
    {
     "name": "stderr",
     "output_type": "stream",
     "text": [
      "<ipython-input-34-beb3ca1d03c6>:1: FutureWarning:\n",
      "\n",
      "Indexing with multiple keys (implicitly converted to a tuple of keys) will be deprecated, use a list instead.\n",
      "\n"
     ]
    },
    {
     "data": {
      "text/plain": [
       "<AxesSubplot:xlabel='Year'>"
      ]
     },
     "execution_count": 34,
     "metadata": {},
     "output_type": "execute_result"
    },
    {
     "data": {
      "image/png": "[encoded data removed]",
      "text/plain": [
       "<Figure size 1440x720 with 1 Axes>"
      ]
     },
     "metadata": {
      "needs_background": "light"
     },
     "output_type": "display_data"
    }
   ],
   "source": [
    "Games_Sales = Euro_Games.groupby('Year')['EU_Sales',\"NA_Sales\",\"Global_Sales\"].sum()\n",
    "Games_Sales.plot(figsize = (20,10))"
   ]
  },
  {
   "cell_type": "markdown",
   "id": "fa259244",
   "metadata": {},
   "source": [
    "The next code helps to order the top sales by platform. This demonstrates that the most popular Platform was PS3."
   ]
  },
  {
   "cell_type": "code",
   "execution_count": 35,
   "id": "bcf7f2e4",
   "metadata": {},
   "outputs": [
    {
     "data": {
      "text/html": [
       "<div>\n",
       "<style scoped>\n",
       "    .dataframe tbody tr th:only-of-type {\n",
       "        vertical-align: middle;\n",
       "    }\n",
       "\n",
       "    .dataframe tbody tr th {\n",
       "        vertical-align: top;\n",
       "    }\n",
       "\n",
       "    .dataframe thead th {\n",
       "        text-align: right;\n",
       "    }\n",
       "</style>\n",
       "<table border=\"1\" class=\"dataframe\">\n",
       "  <thead>\n",
       "    <tr style=\"text-align: right;\">\n",
       "      <th></th>\n",
       "      <th>Platform</th>\n",
       "      <th>Year</th>\n",
       "      <th>NA_Sales</th>\n",
       "      <th>EU_Sales</th>\n",
       "      <th>Other_Sales</th>\n",
       "      <th>Global_Sales</th>\n",
       "    </tr>\n",
       "  </thead>\n",
       "  <tbody>\n",
       "    <tr>\n",
       "      <th>17</th>\n",
       "      <td>PS3</td>\n",
       "      <td>2666263</td>\n",
       "      <td>392.26</td>\n",
       "      <td>343.23</td>\n",
       "      <td>141.93</td>\n",
       "      <td>957.29</td>\n",
       "    </tr>\n",
       "    <tr>\n",
       "      <th>16</th>\n",
       "      <td>PS2</td>\n",
       "      <td>4327974</td>\n",
       "      <td>582.17</td>\n",
       "      <td>338.19</td>\n",
       "      <td>193.00</td>\n",
       "      <td>1252.43</td>\n",
       "    </tr>\n",
       "    <tr>\n",
       "      <th>28</th>\n",
       "      <td>X360</td>\n",
       "      <td>2534380</td>\n",
       "      <td>601.04</td>\n",
       "      <td>280.54</td>\n",
       "      <td>85.54</td>\n",
       "      <td>979.89</td>\n",
       "    </tr>\n",
       "    <tr>\n",
       "      <th>26</th>\n",
       "      <td>Wii</td>\n",
       "      <td>2659800</td>\n",
       "      <td>507.56</td>\n",
       "      <td>268.33</td>\n",
       "      <td>80.60</td>\n",
       "      <td>926.36</td>\n",
       "    </tr>\n",
       "    <tr>\n",
       "      <th>15</th>\n",
       "      <td>PS</td>\n",
       "      <td>2383655</td>\n",
       "      <td>335.65</td>\n",
       "      <td>213.02</td>\n",
       "      <td>40.80</td>\n",
       "      <td>729.07</td>\n",
       "    </tr>\n",
       "    <tr>\n",
       "      <th>4</th>\n",
       "      <td>DS</td>\n",
       "      <td>4329644</td>\n",
       "      <td>390.67</td>\n",
       "      <td>194.63</td>\n",
       "      <td>60.53</td>\n",
       "      <td>822.19</td>\n",
       "    </tr>\n",
       "    <tr>\n",
       "      <th>13</th>\n",
       "      <td>PC</td>\n",
       "      <td>1916332</td>\n",
       "      <td>93.22</td>\n",
       "      <td>139.38</td>\n",
       "      <td>24.86</td>\n",
       "      <td>258.46</td>\n",
       "    </tr>\n",
       "    <tr>\n",
       "      <th>18</th>\n",
       "      <td>PS4</td>\n",
       "      <td>677042</td>\n",
       "      <td>96.80</td>\n",
       "      <td>123.70</td>\n",
       "      <td>43.36</td>\n",
       "      <td>278.10</td>\n",
       "    </tr>\n",
       "    <tr>\n",
       "      <th>6</th>\n",
       "      <td>GBA</td>\n",
       "      <td>1594566</td>\n",
       "      <td>181.85</td>\n",
       "      <td>73.15</td>\n",
       "      <td>7.62</td>\n",
       "      <td>310.29</td>\n",
       "    </tr>\n",
       "    <tr>\n",
       "      <th>19</th>\n",
       "      <td>PSP</td>\n",
       "      <td>2432538</td>\n",
       "      <td>108.93</td>\n",
       "      <td>68.25</td>\n",
       "      <td>42.19</td>\n",
       "      <td>296.10</td>\n",
       "    </tr>\n",
       "  </tbody>\n",
       "</table>\n",
       "</div>"
      ],
      "text/plain": [
       "   Platform     Year  NA_Sales  EU_Sales  Other_Sales  Global_Sales\n",
       "17      PS3  2666263    392.26    343.23       141.93        957.29\n",
       "16      PS2  4327974    582.17    338.19       193.00       1252.43\n",
       "28     X360  2534380    601.04    280.54        85.54        979.89\n",
       "26      Wii  2659800    507.56    268.33        80.60        926.36\n",
       "15       PS  2383655    335.65    213.02        40.80        729.07\n",
       "4        DS  4329644    390.67    194.63        60.53        822.19\n",
       "13       PC  1916332     93.22    139.38        24.86        258.46\n",
       "18      PS4   677042     96.80    123.70        43.36        278.10\n",
       "6       GBA  1594566    181.85     73.15         7.62        310.29\n",
       "19      PSP  2432538    108.93     68.25        42.19        296.10"
      ]
     },
     "execution_count": 35,
     "metadata": {},
     "output_type": "execute_result"
    }
   ],
   "source": [
    "Euro_Games.groupby('Platform').sum().reset_index().sort_values('EU_Sales', ascending = False).head(10)"
   ]
  },
  {
   "cell_type": "markdown",
   "id": "3f8a4536",
   "metadata": {},
   "source": [
    "### 6.5 Scatter Plot<a name=\"6.5\"></a>"
   ]
  },
  {
   "cell_type": "markdown",
   "id": "801d1cdd",
   "metadata": {},
   "source": [
    "Scatter plots helps to visualize how the data points of the data set are spead by feature. They also help to see if we have outliers."
   ]
  },
  {
   "cell_type": "code",
   "execution_count": 36,
   "id": "f3ad0131",
   "metadata": {},
   "outputs": [
    {
     "data": {
      "image/png": "[encoded data removed]",
      "text/plain": [
       "<Figure size 900x900 with 30 Axes>"
      ]
     },
     "metadata": {
      "needs_background": "light"
     },
     "output_type": "display_data"
    }
   ],
   "source": [
    "sns.pairplot(Euro_Games, kind=\"scatter\")\n",
    "plt.show()"
   ]
  },
  {
   "cell_type": "code",
   "execution_count": 37,
   "id": "2066c88f",
   "metadata": {},
   "outputs": [
    {
     "data": {
      "text/html": [
       "<div>\n",
       "<style scoped>\n",
       "    .dataframe tbody tr th:only-of-type {\n",
       "        vertical-align: middle;\n",
       "    }\n",
       "\n",
       "    .dataframe tbody tr th {\n",
       "        vertical-align: top;\n",
       "    }\n",
       "\n",
       "    .dataframe thead th {\n",
       "        text-align: right;\n",
       "    }\n",
       "</style>\n",
       "<table border=\"1\" class=\"dataframe\">\n",
       "  <thead>\n",
       "    <tr style=\"text-align: right;\">\n",
       "      <th></th>\n",
       "      <th>Name</th>\n",
       "      <th>Year</th>\n",
       "      <th>NA_Sales</th>\n",
       "      <th>EU_Sales</th>\n",
       "      <th>Other_Sales</th>\n",
       "      <th>Global_Sales</th>\n",
       "    </tr>\n",
       "  </thead>\n",
       "  <tbody>\n",
       "    <tr>\n",
       "      <th>10959</th>\n",
       "      <td>Wii Sports</td>\n",
       "      <td>2006</td>\n",
       "      <td>41.49</td>\n",
       "      <td>29.02</td>\n",
       "      <td>8.46</td>\n",
       "      <td>82.74</td>\n",
       "    </tr>\n",
       "    <tr>\n",
       "      <th>3691</th>\n",
       "      <td>Grand Theft Auto V</td>\n",
       "      <td>10069</td>\n",
       "      <td>23.46</td>\n",
       "      <td>23.04</td>\n",
       "      <td>8.03</td>\n",
       "      <td>55.92</td>\n",
       "    </tr>\n",
       "    <tr>\n",
       "      <th>5549</th>\n",
       "      <td>Mario Kart Wii</td>\n",
       "      <td>2008</td>\n",
       "      <td>15.85</td>\n",
       "      <td>12.88</td>\n",
       "      <td>3.31</td>\n",
       "      <td>35.82</td>\n",
       "    </tr>\n",
       "    <tr>\n",
       "      <th>2904</th>\n",
       "      <td>FIFA 15</td>\n",
       "      <td>16112</td>\n",
       "      <td>3.20</td>\n",
       "      <td>12.40</td>\n",
       "      <td>3.29</td>\n",
       "      <td>19.02</td>\n",
       "    </tr>\n",
       "    <tr>\n",
       "      <th>1222</th>\n",
       "      <td>Call of Duty: Modern Warfare 3</td>\n",
       "      <td>8044</td>\n",
       "      <td>15.58</td>\n",
       "      <td>11.29</td>\n",
       "      <td>3.35</td>\n",
       "      <td>30.83</td>\n",
       "    </tr>\n",
       "    <tr>\n",
       "      <th>2905</th>\n",
       "      <td>FIFA 16</td>\n",
       "      <td>10075</td>\n",
       "      <td>2.98</td>\n",
       "      <td>11.29</td>\n",
       "      <td>2.05</td>\n",
       "      <td>16.44</td>\n",
       "    </tr>\n",
       "    <tr>\n",
       "      <th>2903</th>\n",
       "      <td>FIFA 14</td>\n",
       "      <td>18117</td>\n",
       "      <td>2.84</td>\n",
       "      <td>11.14</td>\n",
       "      <td>2.98</td>\n",
       "      <td>17.14</td>\n",
       "    </tr>\n",
       "    <tr>\n",
       "      <th>1218</th>\n",
       "      <td>Call of Duty: Black Ops II</td>\n",
       "      <td>8048</td>\n",
       "      <td>14.08</td>\n",
       "      <td>11.05</td>\n",
       "      <td>3.88</td>\n",
       "      <td>29.72</td>\n",
       "    </tr>\n",
       "    <tr>\n",
       "      <th>10961</th>\n",
       "      <td>Wii Sports Resort</td>\n",
       "      <td>2009</td>\n",
       "      <td>15.75</td>\n",
       "      <td>11.01</td>\n",
       "      <td>2.96</td>\n",
       "      <td>33.00</td>\n",
       "    </tr>\n",
       "    <tr>\n",
       "      <th>6765</th>\n",
       "      <td>Nintendogs</td>\n",
       "      <td>2005</td>\n",
       "      <td>9.07</td>\n",
       "      <td>11.00</td>\n",
       "      <td>2.75</td>\n",
       "      <td>24.76</td>\n",
       "    </tr>\n",
       "  </tbody>\n",
       "</table>\n",
       "</div>"
      ],
      "text/plain": [
       "                                 Name   Year  NA_Sales  EU_Sales  Other_Sales  \\\n",
       "10959                      Wii Sports   2006     41.49     29.02         8.46   \n",
       "3691               Grand Theft Auto V  10069     23.46     23.04         8.03   \n",
       "5549                   Mario Kart Wii   2008     15.85     12.88         3.31   \n",
       "2904                          FIFA 15  16112      3.20     12.40         3.29   \n",
       "1222   Call of Duty: Modern Warfare 3   8044     15.58     11.29         3.35   \n",
       "2905                          FIFA 16  10075      2.98     11.29         2.05   \n",
       "2903                          FIFA 14  18117      2.84     11.14         2.98   \n",
       "1218       Call of Duty: Black Ops II   8048     14.08     11.05         3.88   \n",
       "10961               Wii Sports Resort   2009     15.75     11.01         2.96   \n",
       "6765                       Nintendogs   2005      9.07     11.00         2.75   \n",
       "\n",
       "       Global_Sales  \n",
       "10959         82.74  \n",
       "3691          55.92  \n",
       "5549          35.82  \n",
       "2904          19.02  \n",
       "1222          30.83  \n",
       "2905          16.44  \n",
       "2903          17.14  \n",
       "1218          29.72  \n",
       "10961         33.00  \n",
       "6765          24.76  "
      ]
     },
     "execution_count": 37,
     "metadata": {},
     "output_type": "execute_result"
    }
   ],
   "source": [
    "Euro_Games.groupby('Name').sum().reset_index().sort_values('EU_Sales', ascending = False).head(10)"
   ]
  },
  {
   "cell_type": "code",
   "execution_count": 38,
   "id": "20a24ea1",
   "metadata": {},
   "outputs": [
    {
     "data": {
      "text/plain": [
       "<Figure size 720x720 with 0 Axes>"
      ]
     },
     "metadata": {},
     "output_type": "display_data"
    },
    {
     "data": {
      "image/png": "[encoded data removed]",
      "text/plain": [
       "<Figure size 432x288 with 6 Axes>"
      ]
     },
     "metadata": {
      "needs_background": "light"
     },
     "output_type": "display_data"
    }
   ],
   "source": [
    "from matplotlib import pyplot as plt\n",
    "plt.figure(figsize = (10, 10))\n",
    "Euro_Games.hist()\n",
    "plt.show()"
   ]
  },
  {
   "cell_type": "markdown",
   "id": "4faafbff",
   "metadata": {},
   "source": [
    "***"
   ]
  },
  {
   "cell_type": "markdown",
   "id": "c93eb5ce",
   "metadata": {},
   "source": [
    "## 7 Summary of Findings<a name=\"7\"></a> \n",
    "\n",
    "- The charts above helped us to understand that most of the videogames were released in DS and then in Play Station 2.\n",
    "\n",
    "- Action is the favorite genre of videogames in contrast with Puzzle, which is the less popular.\n",
    "\n",
    "- Electronic Arts (EA games) is the Publisher with more videogames in the market.\n",
    "\n",
    "- Most of these videogames were released between 2002 and 2016. \n",
    "\n",
    "- Between 1980 and 1990 videogame sales were not high, as technology and graphics were developed, videogame sales had a peak between 2005 and 2010. "
   ]
  },
  {
   "cell_type": "code",
   "execution_count": 39,
   "id": "36114f46",
   "metadata": {},
   "outputs": [
    {
     "data": {
      "text/html": [
       "<div>\n",
       "<style scoped>\n",
       "    .dataframe tbody tr th:only-of-type {\n",
       "        vertical-align: middle;\n",
       "    }\n",
       "\n",
       "    .dataframe tbody tr th {\n",
       "        vertical-align: top;\n",
       "    }\n",
       "\n",
       "    .dataframe thead th {\n",
       "        text-align: right;\n",
       "    }\n",
       "</style>\n",
       "<table border=\"1\" class=\"dataframe\">\n",
       "  <thead>\n",
       "    <tr style=\"text-align: right;\">\n",
       "      <th></th>\n",
       "      <th>Name</th>\n",
       "      <th>Platform</th>\n",
       "      <th>Year</th>\n",
       "      <th>Genre</th>\n",
       "      <th>NA_Sales</th>\n",
       "      <th>EU_Sales</th>\n",
       "      <th>Other_Sales</th>\n",
       "      <th>Global_Sales</th>\n",
       "    </tr>\n",
       "  </thead>\n",
       "  <tbody>\n",
       "    <tr>\n",
       "      <th>0</th>\n",
       "      <td>Wii Sports</td>\n",
       "      <td>Wii</td>\n",
       "      <td>2006</td>\n",
       "      <td>Sports</td>\n",
       "      <td>41.49</td>\n",
       "      <td>29.02</td>\n",
       "      <td>8.46</td>\n",
       "      <td>82.74</td>\n",
       "    </tr>\n",
       "    <tr>\n",
       "      <th>1</th>\n",
       "      <td>Super Mario Bros.</td>\n",
       "      <td>NES</td>\n",
       "      <td>1985</td>\n",
       "      <td>Platform</td>\n",
       "      <td>29.08</td>\n",
       "      <td>3.58</td>\n",
       "      <td>0.77</td>\n",
       "      <td>40.24</td>\n",
       "    </tr>\n",
       "    <tr>\n",
       "      <th>2</th>\n",
       "      <td>Mario Kart Wii</td>\n",
       "      <td>Wii</td>\n",
       "      <td>2008</td>\n",
       "      <td>Racing</td>\n",
       "      <td>15.85</td>\n",
       "      <td>12.88</td>\n",
       "      <td>3.31</td>\n",
       "      <td>35.82</td>\n",
       "    </tr>\n",
       "    <tr>\n",
       "      <th>3</th>\n",
       "      <td>Wii Sports Resort</td>\n",
       "      <td>Wii</td>\n",
       "      <td>2009</td>\n",
       "      <td>Sports</td>\n",
       "      <td>15.75</td>\n",
       "      <td>11.01</td>\n",
       "      <td>2.96</td>\n",
       "      <td>33.00</td>\n",
       "    </tr>\n",
       "    <tr>\n",
       "      <th>4</th>\n",
       "      <td>Pokemon Red/Pokemon Blue</td>\n",
       "      <td>GB</td>\n",
       "      <td>1996</td>\n",
       "      <td>Role-Playing</td>\n",
       "      <td>11.27</td>\n",
       "      <td>8.89</td>\n",
       "      <td>1.00</td>\n",
       "      <td>31.37</td>\n",
       "    </tr>\n",
       "    <tr>\n",
       "      <th>...</th>\n",
       "      <td>...</td>\n",
       "      <td>...</td>\n",
       "      <td>...</td>\n",
       "      <td>...</td>\n",
       "      <td>...</td>\n",
       "      <td>...</td>\n",
       "      <td>...</td>\n",
       "      <td>...</td>\n",
       "    </tr>\n",
       "    <tr>\n",
       "      <th>16593</th>\n",
       "      <td>Woody Woodpecker in Crazy Castle 5</td>\n",
       "      <td>GBA</td>\n",
       "      <td>2002</td>\n",
       "      <td>Platform</td>\n",
       "      <td>0.01</td>\n",
       "      <td>0.00</td>\n",
       "      <td>0.00</td>\n",
       "      <td>0.01</td>\n",
       "    </tr>\n",
       "    <tr>\n",
       "      <th>16594</th>\n",
       "      <td>Men in Black II: Alien Escape</td>\n",
       "      <td>GC</td>\n",
       "      <td>2003</td>\n",
       "      <td>Shooter</td>\n",
       "      <td>0.01</td>\n",
       "      <td>0.00</td>\n",
       "      <td>0.00</td>\n",
       "      <td>0.01</td>\n",
       "    </tr>\n",
       "    <tr>\n",
       "      <th>16595</th>\n",
       "      <td>SCORE International Baja 1000: The Official Game</td>\n",
       "      <td>PS2</td>\n",
       "      <td>2008</td>\n",
       "      <td>Racing</td>\n",
       "      <td>0.00</td>\n",
       "      <td>0.00</td>\n",
       "      <td>0.00</td>\n",
       "      <td>0.01</td>\n",
       "    </tr>\n",
       "    <tr>\n",
       "      <th>16596</th>\n",
       "      <td>Know How 2</td>\n",
       "      <td>DS</td>\n",
       "      <td>2010</td>\n",
       "      <td>Puzzle</td>\n",
       "      <td>0.00</td>\n",
       "      <td>0.01</td>\n",
       "      <td>0.00</td>\n",
       "      <td>0.01</td>\n",
       "    </tr>\n",
       "    <tr>\n",
       "      <th>16597</th>\n",
       "      <td>Spirits &amp; Spells</td>\n",
       "      <td>GBA</td>\n",
       "      <td>2003</td>\n",
       "      <td>Platform</td>\n",
       "      <td>0.01</td>\n",
       "      <td>0.00</td>\n",
       "      <td>0.00</td>\n",
       "      <td>0.01</td>\n",
       "    </tr>\n",
       "  </tbody>\n",
       "</table>\n",
       "<p>16540 rows × 8 columns</p>\n",
       "</div>"
      ],
      "text/plain": [
       "                                                   Name Platform  Year  \\\n",
       "0                                            Wii Sports      Wii  2006   \n",
       "1                                     Super Mario Bros.      NES  1985   \n",
       "2                                        Mario Kart Wii      Wii  2008   \n",
       "3                                     Wii Sports Resort      Wii  2009   \n",
       "4                              Pokemon Red/Pokemon Blue       GB  1996   \n",
       "...                                                 ...      ...   ...   \n",
       "16593                Woody Woodpecker in Crazy Castle 5      GBA  2002   \n",
       "16594                     Men in Black II: Alien Escape       GC  2003   \n",
       "16595  SCORE International Baja 1000: The Official Game      PS2  2008   \n",
       "16596                                        Know How 2       DS  2010   \n",
       "16597                                  Spirits & Spells      GBA  2003   \n",
       "\n",
       "              Genre  NA_Sales  EU_Sales  Other_Sales  Global_Sales  \n",
       "0            Sports     41.49     29.02         8.46         82.74  \n",
       "1          Platform     29.08      3.58         0.77         40.24  \n",
       "2            Racing     15.85     12.88         3.31         35.82  \n",
       "3            Sports     15.75     11.01         2.96         33.00  \n",
       "4      Role-Playing     11.27      8.89         1.00         31.37  \n",
       "...             ...       ...       ...          ...           ...  \n",
       "16593      Platform      0.01      0.00         0.00          0.01  \n",
       "16594       Shooter      0.01      0.00         0.00          0.01  \n",
       "16595        Racing      0.00      0.00         0.00          0.01  \n",
       "16596        Puzzle      0.00      0.01         0.00          0.01  \n",
       "16597      Platform      0.01      0.00         0.00          0.01  \n",
       "\n",
       "[16540 rows x 8 columns]"
      ]
     },
     "execution_count": 39,
     "metadata": {},
     "output_type": "execute_result"
    }
   ],
   "source": [
    "Euro_Games"
   ]
  },
  {
   "cell_type": "code",
   "execution_count": 40,
   "id": "c06c63ac",
   "metadata": {
    "scrolled": false
   },
   "outputs": [
    {
     "data": {
      "text/html": [
       "<div>\n",
       "<style scoped>\n",
       "    .dataframe tbody tr th:only-of-type {\n",
       "        vertical-align: middle;\n",
       "    }\n",
       "\n",
       "    .dataframe tbody tr th {\n",
       "        vertical-align: top;\n",
       "    }\n",
       "\n",
       "    .dataframe thead th {\n",
       "        text-align: right;\n",
       "    }\n",
       "</style>\n",
       "<table border=\"1\" class=\"dataframe\">\n",
       "  <thead>\n",
       "    <tr style=\"text-align: right;\">\n",
       "      <th></th>\n",
       "      <th>Year</th>\n",
       "      <th>NA_Sales</th>\n",
       "      <th>EU_Sales</th>\n",
       "      <th>Other_Sales</th>\n",
       "      <th>Global_Sales</th>\n",
       "    </tr>\n",
       "  </thead>\n",
       "  <tbody>\n",
       "    <tr>\n",
       "      <th>Year</th>\n",
       "      <td>1.000000</td>\n",
       "      <td>-0.091157</td>\n",
       "      <td>0.005930</td>\n",
       "      <td>0.040949</td>\n",
       "      <td>-0.074710</td>\n",
       "    </tr>\n",
       "    <tr>\n",
       "      <th>NA_Sales</th>\n",
       "      <td>-0.091157</td>\n",
       "      <td>1.000000</td>\n",
       "      <td>0.767672</td>\n",
       "      <td>0.634651</td>\n",
       "      <td>0.941036</td>\n",
       "    </tr>\n",
       "    <tr>\n",
       "      <th>EU_Sales</th>\n",
       "      <td>0.005930</td>\n",
       "      <td>0.767672</td>\n",
       "      <td>1.000000</td>\n",
       "      <td>0.726326</td>\n",
       "      <td>0.902817</td>\n",
       "    </tr>\n",
       "    <tr>\n",
       "      <th>Other_Sales</th>\n",
       "      <td>0.040949</td>\n",
       "      <td>0.634651</td>\n",
       "      <td>0.726326</td>\n",
       "      <td>1.000000</td>\n",
       "      <td>0.748260</td>\n",
       "    </tr>\n",
       "    <tr>\n",
       "      <th>Global_Sales</th>\n",
       "      <td>-0.074710</td>\n",
       "      <td>0.941036</td>\n",
       "      <td>0.902817</td>\n",
       "      <td>0.748260</td>\n",
       "      <td>1.000000</td>\n",
       "    </tr>\n",
       "  </tbody>\n",
       "</table>\n",
       "</div>"
      ],
      "text/plain": [
       "                  Year  NA_Sales  EU_Sales  Other_Sales  Global_Sales\n",
       "Year          1.000000 -0.091157  0.005930     0.040949     -0.074710\n",
       "NA_Sales     -0.091157  1.000000  0.767672     0.634651      0.941036\n",
       "EU_Sales      0.005930  0.767672  1.000000     0.726326      0.902817\n",
       "Other_Sales   0.040949  0.634651  0.726326     1.000000      0.748260\n",
       "Global_Sales -0.074710  0.941036  0.902817     0.748260      1.000000"
      ]
     },
     "execution_count": 40,
     "metadata": {},
     "output_type": "execute_result"
    }
   ],
   "source": [
    "Euro_Games.corr()"
   ]
  },
  {
   "cell_type": "markdown",
   "id": "a5da5cb4",
   "metadata": {},
   "source": [
    "***"
   ]
  },
  {
   "cell_type": "markdown",
   "id": "b8538873",
   "metadata": {},
   "source": [
    "## 8. Machine Learning Models (Preparing)<a name=\"8\"></a> \n",
    "    To perform Machine Learning Models it is important to import specific libraries and remove more features. \n",
    "    This new dataset will be called ModelGames."
   ]
  },
  {
   "cell_type": "code",
   "execution_count": 41,
   "id": "2da685b5",
   "metadata": {},
   "outputs": [],
   "source": [
    "import numpy as np\n",
    "import pandas as pd\n",
    "import seaborn as sns\n",
    "import matplotlib.pyplot as plt\n",
    "\n",
    "from sklearn.preprocessing import LabelEncoder, StandardScaler\n",
    "from sklearn.model_selection import train_test_split\n",
    "from sklearn.linear_model import LinearRegression\n",
    "from sklearn.svm import SVR\n",
    "from sklearn.neighbors import KNeighborsRegressor\n",
    "from sklearn.ensemble import RandomForestRegressor\n",
    "from sklearn.tree import DecisionTreeRegressor\n",
    "from sklearn.metrics import mean_squared_error, r2_score"
   ]
  },
  {
   "cell_type": "code",
   "execution_count": 42,
   "id": "e42fbb15",
   "metadata": {},
   "outputs": [],
   "source": [
    "Modelgames = Euro_Games.drop(columns=[\"Name\",\"EU_Sales\",\"Global_Sales\"], axis=1)"
   ]
  },
  {
   "cell_type": "code",
   "execution_count": 43,
   "id": "03e94f8f",
   "metadata": {},
   "outputs": [
    {
     "data": {
      "text/html": [
       "<div>\n",
       "<style scoped>\n",
       "    .dataframe tbody tr th:only-of-type {\n",
       "        vertical-align: middle;\n",
       "    }\n",
       "\n",
       "    .dataframe tbody tr th {\n",
       "        vertical-align: top;\n",
       "    }\n",
       "\n",
       "    .dataframe thead th {\n",
       "        text-align: right;\n",
       "    }\n",
       "</style>\n",
       "<table border=\"1\" class=\"dataframe\">\n",
       "  <thead>\n",
       "    <tr style=\"text-align: right;\">\n",
       "      <th></th>\n",
       "      <th>Platform</th>\n",
       "      <th>Year</th>\n",
       "      <th>Genre</th>\n",
       "      <th>NA_Sales</th>\n",
       "      <th>Other_Sales</th>\n",
       "    </tr>\n",
       "  </thead>\n",
       "  <tbody>\n",
       "    <tr>\n",
       "      <th>0</th>\n",
       "      <td>Wii</td>\n",
       "      <td>2006</td>\n",
       "      <td>Sports</td>\n",
       "      <td>41.49</td>\n",
       "      <td>8.46</td>\n",
       "    </tr>\n",
       "    <tr>\n",
       "      <th>1</th>\n",
       "      <td>NES</td>\n",
       "      <td>1985</td>\n",
       "      <td>Platform</td>\n",
       "      <td>29.08</td>\n",
       "      <td>0.77</td>\n",
       "    </tr>\n",
       "    <tr>\n",
       "      <th>2</th>\n",
       "      <td>Wii</td>\n",
       "      <td>2008</td>\n",
       "      <td>Racing</td>\n",
       "      <td>15.85</td>\n",
       "      <td>3.31</td>\n",
       "    </tr>\n",
       "    <tr>\n",
       "      <th>3</th>\n",
       "      <td>Wii</td>\n",
       "      <td>2009</td>\n",
       "      <td>Sports</td>\n",
       "      <td>15.75</td>\n",
       "      <td>2.96</td>\n",
       "    </tr>\n",
       "    <tr>\n",
       "      <th>4</th>\n",
       "      <td>GB</td>\n",
       "      <td>1996</td>\n",
       "      <td>Role-Playing</td>\n",
       "      <td>11.27</td>\n",
       "      <td>1.00</td>\n",
       "    </tr>\n",
       "  </tbody>\n",
       "</table>\n",
       "</div>"
      ],
      "text/plain": [
       "  Platform  Year         Genre  NA_Sales  Other_Sales\n",
       "0      Wii  2006        Sports     41.49         8.46\n",
       "1      NES  1985      Platform     29.08         0.77\n",
       "2      Wii  2008        Racing     15.85         3.31\n",
       "3      Wii  2009        Sports     15.75         2.96\n",
       "4       GB  1996  Role-Playing     11.27         1.00"
      ]
     },
     "execution_count": 43,
     "metadata": {},
     "output_type": "execute_result"
    }
   ],
   "source": [
    "Modelgames.head()"
   ]
  },
  {
   "cell_type": "markdown",
   "id": "6b7cf9d7",
   "metadata": {},
   "source": [
    "### 8.1 Encoding Data<a name=\"8.1\"></a> \n",
    "    As Platform and Genre are categorical data, expressed in object, we need to encode it into numbers that can be analized by the machine."
   ]
  },
  {
   "cell_type": "code",
   "execution_count": 44,
   "id": "80210faf",
   "metadata": {},
   "outputs": [
    {
     "data": {
      "text/html": [
       "<div>\n",
       "<style scoped>\n",
       "    .dataframe tbody tr th:only-of-type {\n",
       "        vertical-align: middle;\n",
       "    }\n",
       "\n",
       "    .dataframe tbody tr th {\n",
       "        vertical-align: top;\n",
       "    }\n",
       "\n",
       "    .dataframe thead th {\n",
       "        text-align: right;\n",
       "    }\n",
       "</style>\n",
       "<table border=\"1\" class=\"dataframe\">\n",
       "  <thead>\n",
       "    <tr style=\"text-align: right;\">\n",
       "      <th></th>\n",
       "      <th>Platform</th>\n",
       "      <th>Year</th>\n",
       "      <th>Genre</th>\n",
       "      <th>NA_Sales</th>\n",
       "      <th>Other_Sales</th>\n",
       "    </tr>\n",
       "  </thead>\n",
       "  <tbody>\n",
       "    <tr>\n",
       "      <th>0</th>\n",
       "      <td>26</td>\n",
       "      <td>26</td>\n",
       "      <td>10</td>\n",
       "      <td>41.49</td>\n",
       "      <td>8.46</td>\n",
       "    </tr>\n",
       "    <tr>\n",
       "      <th>1</th>\n",
       "      <td>11</td>\n",
       "      <td>5</td>\n",
       "      <td>4</td>\n",
       "      <td>29.08</td>\n",
       "      <td>0.77</td>\n",
       "    </tr>\n",
       "    <tr>\n",
       "      <th>2</th>\n",
       "      <td>26</td>\n",
       "      <td>28</td>\n",
       "      <td>6</td>\n",
       "      <td>15.85</td>\n",
       "      <td>3.31</td>\n",
       "    </tr>\n",
       "    <tr>\n",
       "      <th>3</th>\n",
       "      <td>26</td>\n",
       "      <td>29</td>\n",
       "      <td>10</td>\n",
       "      <td>15.75</td>\n",
       "      <td>2.96</td>\n",
       "    </tr>\n",
       "    <tr>\n",
       "      <th>4</th>\n",
       "      <td>5</td>\n",
       "      <td>16</td>\n",
       "      <td>7</td>\n",
       "      <td>11.27</td>\n",
       "      <td>1.00</td>\n",
       "    </tr>\n",
       "  </tbody>\n",
       "</table>\n",
       "</div>"
      ],
      "text/plain": [
       "   Platform  Year  Genre  NA_Sales  Other_Sales\n",
       "0        26    26     10     41.49         8.46\n",
       "1        11     5      4     29.08         0.77\n",
       "2        26    28      6     15.85         3.31\n",
       "3        26    29     10     15.75         2.96\n",
       "4         5    16      7     11.27         1.00"
      ]
     },
     "execution_count": 44,
     "metadata": {},
     "output_type": "execute_result"
    }
   ],
   "source": [
    "le = LabelEncoder()\n",
    "Modelgames['Platform'] = le.fit_transform(Modelgames['Platform'].astype('str'))\n",
    "Modelgames['Genre'] = le.fit_transform(Modelgames['Genre'].astype('str'))\n",
    "Modelgames['Year'] = le.fit_transform(Modelgames['Year'].astype('str'))\n",
    "Modelgames.head()"
   ]
  },
  {
   "cell_type": "markdown",
   "id": "b400ad3e",
   "metadata": {},
   "source": [
    "### 8.2 Dependent Variable<a name=\"8.2\"></a> \n",
    "    We use European Sales as our label (Y) because we are trying to predict how the other variables influence sales. "
   ]
  },
  {
   "cell_type": "code",
   "execution_count": 45,
   "id": "8cc85329",
   "metadata": {},
   "outputs": [],
   "source": [
    "y = Euro_Games['EU_Sales']"
   ]
  },
  {
   "cell_type": "code",
   "execution_count": 46,
   "id": "40ef5670",
   "metadata": {},
   "outputs": [],
   "source": [
    "X= Modelgames"
   ]
  },
  {
   "cell_type": "markdown",
   "id": "ce4df55e",
   "metadata": {},
   "source": [
    "### 8.3 Standarizing Data<a name=\"8.3\"></a> \n",
    "    It is important to standarize the data to not have outliers."
   ]
  },
  {
   "cell_type": "code",
   "execution_count": 47,
   "id": "dcf0d5cb",
   "metadata": {},
   "outputs": [],
   "source": [
    "scaler = StandardScaler()\n",
    "scaler.fit(Modelgames)\n",
    "Modelgames = scaler.transform(Modelgames)"
   ]
  },
  {
   "cell_type": "markdown",
   "id": "32c34796",
   "metadata": {},
   "source": [
    "***"
   ]
  },
  {
   "cell_type": "markdown",
   "id": "6dc1e086",
   "metadata": {},
   "source": [
    "## 9. Models at 30%<a name=\"9\"></a> \n",
    "### 9.1 Linear Regression 30%<a name=\"9.1\"></a> \n",
    "    The first model we performed is Linear Regression\n",
    "<font size=1>Note: The previous hypothesis we were trying to prove was that Year, Genre and Platform could influence European Sales. However, when we ran that model the accuracy was very low (Please see figure below). Taking that into account we chose to try adding the variables that in the heatmap showed more correlation. i.e. Other Sales and North American Sales. Once we added these features to the model, the accuracy of our models improved significantly. This demonstrates that Sales are a better predictor than the other features we chose at the beginning.</font>\n",
    "\n",
    "- First we define our X and Y for training and testing and the test size, which is 30%\n",
    "- Then we code the model we are working with\n",
    "- We print the accuracy for training and testing\n",
    "    "
   ]
  },
  {
   "cell_type": "code",
   "execution_count": 48,
   "id": "c0a4e3b0",
   "metadata": {},
   "outputs": [],
   "source": [
    "X_train, X_test, y_train, y_test = train_test_split (X, y, test_size=0.30)"
   ]
  },
  {
   "cell_type": "code",
   "execution_count": 49,
   "id": "4d3bf72d",
   "metadata": {},
   "outputs": [
    {
     "data": {
      "text/plain": [
       "LinearRegression()"
      ]
     },
     "execution_count": 49,
     "metadata": {},
     "output_type": "execute_result"
    }
   ],
   "source": [
    "reg = LinearRegression()\n",
    "reg.fit(X_train,y_train)"
   ]
  },
  {
   "cell_type": "code",
   "execution_count": 50,
   "id": "d5a30cbd",
   "metadata": {},
   "outputs": [],
   "source": [
    "y_pred = reg.predict(X_test)"
   ]
  },
  {
   "cell_type": "code",
   "execution_count": 51,
   "id": "c18d8088",
   "metadata": {},
   "outputs": [
    {
     "name": "stdout",
     "output_type": "stream",
     "text": [
      "Train Accuracy : 67.28%\n",
      "Test Accuracy : 71.94%\n"
     ]
    }
   ],
   "source": [
    "Acc_reg30 = reg.score(X_train, y_train)\n",
    "acc_reg30 = reg.score(X_test, y_test)\n",
    "print ('Train Accuracy : {:.2f}%'.format(Acc_reg30*100))\n",
    "print ('Test Accuracy : {:.2f}%'.format(acc_reg30*100))"
   ]
  },
  {
   "cell_type": "code",
   "execution_count": 52,
   "id": "984d390c",
   "metadata": {},
   "outputs": [
    {
     "name": "stdout",
     "output_type": "stream",
     "text": [
      "Mean squared error: 0.06\n",
      "Variance Score: 0.72\n"
     ]
    }
   ],
   "source": [
    "print('Mean squared error: %.2f'% mean_squared_error(y_test, y_pred))\n",
    "print('Variance Score: %.2f'% r2_score(y_test, y_pred))"
   ]
  },
  {
   "cell_type": "markdown",
   "id": "11362485",
   "metadata": {},
   "source": [
    "### 9.2 Cross-Validation Linear Regression<a name=\"9.2\"></a> \n",
    "    This method help us to understand how accurate our data set is, in other words, it test the avility of the model to predict the data. "
   ]
  },
  {
   "cell_type": "code",
   "execution_count": 53,
   "id": "1fde276b",
   "metadata": {},
   "outputs": [
    {
     "name": "stdout",
     "output_type": "stream",
     "text": [
      "KFold(n_splits=5, random_state=None, shuffle=False)\n",
      "TRAIN: [ 3308  3309  3310 ... 16537 16538 16539] TEST: [   0    1    2 ... 3305 3306 3307]\n",
      "TRAIN: [    0     1     2 ... 16537 16538 16539] TEST: [3308 3309 3310 ... 6613 6614 6615]\n",
      "TRAIN: [    0     1     2 ... 16537 16538 16539] TEST: [6616 6617 6618 ... 9921 9922 9923]\n",
      "TRAIN: [    0     1     2 ... 16537 16538 16539] TEST: [ 9924  9925  9926 ... 13229 13230 13231]\n",
      "TRAIN: [    0     1     2 ... 13229 13230 13231] TEST: [13232 13233 13234 ... 16537 16538 16539]\n"
     ]
    }
   ],
   "source": [
    "import numpy as np\n",
    "from sklearn.model_selection import KFold\n",
    "from sklearn.model_selection import cross_val_score\n",
    "X = Modelgames\n",
    "y = Euro_Games['EU_Sales']\n",
    "kf = KFold(n_splits=5)\n",
    "kf.get_n_splits(X)\n",
    "5\n",
    "print(kf)\n",
    "for train_index, test_index in kf.split(X):\n",
    "    print(\"TRAIN:\", train_index, \"TEST:\", test_index)"
   ]
  },
  {
   "cell_type": "code",
   "execution_count": 54,
   "id": "8a063347",
   "metadata": {},
   "outputs": [
    {
     "data": {
      "text/plain": [
       "array([0.32888116, 0.06701275, 0.0399531 , 0.02905079, 0.02368214])"
      ]
     },
     "execution_count": 54,
     "metadata": {},
     "output_type": "execute_result"
    }
   ],
   "source": [
    "scores = cross_val_score(reg, X, y, cv=kf, scoring='neg_mean_absolute_error')\n",
    "-scores"
   ]
  },
  {
   "cell_type": "code",
   "execution_count": 55,
   "id": "421c8ecc",
   "metadata": {
    "scrolled": true
   },
   "outputs": [
    {
     "data": {
      "text/plain": [
       "0.09771598680450606"
      ]
     },
     "execution_count": 55,
     "metadata": {},
     "output_type": "execute_result"
    }
   ],
   "source": [
    "-scores.mean()"
   ]
  },
  {
   "cell_type": "markdown",
   "id": "9680cf69",
   "metadata": {},
   "source": [
    "### 9.3 KNN 30%<a name=\"9.3\"></a> \n",
    "    Neighbors at 30% is the second model we implemented.\n",
    "   "
   ]
  },
  {
   "cell_type": "code",
   "execution_count": 56,
   "id": "550af09a",
   "metadata": {},
   "outputs": [
    {
     "data": {
      "text/plain": [
       "KNeighborsRegressor()"
      ]
     },
     "execution_count": 56,
     "metadata": {},
     "output_type": "execute_result"
    }
   ],
   "source": [
    "neigh = KNeighborsRegressor()\n",
    "neigh.fit(X_train, y_train)"
   ]
  },
  {
   "cell_type": "code",
   "execution_count": 57,
   "id": "ed8e9a3e",
   "metadata": {},
   "outputs": [],
   "source": [
    "pred_neigh = neigh.predict(X_test)"
   ]
  },
  {
   "cell_type": "code",
   "execution_count": 58,
   "id": "536464e3",
   "metadata": {},
   "outputs": [
    {
     "name": "stdout",
     "output_type": "stream",
     "text": [
      "Train Accuracy : 72.16%\n",
      "Test Accuracy : 65.60%\n"
     ]
    }
   ],
   "source": [
    "Acc_neigh30 = neigh.score(X_train, y_train)\n",
    "acc_neigh30 = neigh.score(X_test, y_test)\n",
    "print ('Train Accuracy : {:.2f}%'.format(Acc_neigh30*100))\n",
    "print ('Test Accuracy : {:.2f}%'.format(acc_neigh30*100))"
   ]
  },
  {
   "cell_type": "code",
   "execution_count": 59,
   "id": "bb905d4d",
   "metadata": {},
   "outputs": [
    {
     "name": "stdout",
     "output_type": "stream",
     "text": [
      "Mean squared error: 0.07\n",
      "Variance Score: 0.66\n"
     ]
    }
   ],
   "source": [
    "print('Mean squared error: %.2f'% mean_squared_error(y_test, pred_neigh))\n",
    "print('Variance Score: %.2f'% r2_score(y_test, pred_neigh))"
   ]
  },
  {
   "cell_type": "markdown",
   "id": "f69496f4",
   "metadata": {},
   "source": [
    "### 9.4 Cross-Validation KNN<a name=\"9.4\"></a> "
   ]
  },
  {
   "cell_type": "code",
   "execution_count": 60,
   "id": "a11214a0",
   "metadata": {},
   "outputs": [
    {
     "name": "stdout",
     "output_type": "stream",
     "text": [
      "KFold(n_splits=5, random_state=None, shuffle=False)\n",
      "TRAIN: [ 3308  3309  3310 ... 16537 16538 16539] TEST: [   0    1    2 ... 3305 3306 3307]\n",
      "TRAIN: [    0     1     2 ... 16537 16538 16539] TEST: [3308 3309 3310 ... 6613 6614 6615]\n",
      "TRAIN: [    0     1     2 ... 16537 16538 16539] TEST: [6616 6617 6618 ... 9921 9922 9923]\n",
      "TRAIN: [    0     1     2 ... 16537 16538 16539] TEST: [ 9924  9925  9926 ... 13229 13230 13231]\n",
      "TRAIN: [    0     1     2 ... 13229 13230 13231] TEST: [13232 13233 13234 ... 16537 16538 16539]\n"
     ]
    }
   ],
   "source": [
    "import numpy as np\n",
    "from sklearn.model_selection import KFold\n",
    "from sklearn.model_selection import cross_val_score\n",
    "X = Modelgames\n",
    "y = Euro_Games['EU_Sales']\n",
    "kf = KFold(n_splits=5)\n",
    "kf.get_n_splits(X)\n",
    "5\n",
    "print(kf)\n",
    "for train_index, test_index in kf.split(X):\n",
    "    print(\"TRAIN:\", train_index, \"TEST:\", test_index)"
   ]
  },
  {
   "cell_type": "code",
   "execution_count": 61,
   "id": "2ba31d5b",
   "metadata": {},
   "outputs": [
    {
     "data": {
      "text/plain": [
       "array([0.49714692, 0.05945466, 0.02473277, 0.01401088, 0.02409069])"
      ]
     },
     "execution_count": 61,
     "metadata": {},
     "output_type": "execute_result"
    }
   ],
   "source": [
    "scores = cross_val_score(neigh, X, y, cv=kf, scoring='neg_mean_absolute_error')\n",
    "-scores"
   ]
  },
  {
   "cell_type": "code",
   "execution_count": 62,
   "id": "f841b621",
   "metadata": {
    "scrolled": true
   },
   "outputs": [
    {
     "data": {
      "text/plain": [
       "0.12388718258766629"
      ]
     },
     "execution_count": 62,
     "metadata": {},
     "output_type": "execute_result"
    }
   ],
   "source": [
    "-scores.mean()"
   ]
  },
  {
   "cell_type": "markdown",
   "id": "57bf3753",
   "metadata": {},
   "source": [
    "### 9.5 SVR 30%<a name=\"9.5\"></a> \n",
    "Support Vector Regression"
   ]
  },
  {
   "cell_type": "code",
   "execution_count": 63,
   "id": "b55e2044",
   "metadata": {},
   "outputs": [
    {
     "data": {
      "text/plain": [
       "SVR()"
      ]
     },
     "execution_count": 63,
     "metadata": {},
     "output_type": "execute_result"
    }
   ],
   "source": [
    "model_svr = SVR()\n",
    "model_svr.fit(X_train, y_train)"
   ]
  },
  {
   "cell_type": "code",
   "execution_count": 64,
   "id": "51a22bd4",
   "metadata": {},
   "outputs": [],
   "source": [
    "pred_svr = model_svr.predict(X_test)"
   ]
  },
  {
   "cell_type": "code",
   "execution_count": 65,
   "id": "a651977e",
   "metadata": {},
   "outputs": [
    {
     "name": "stdout",
     "output_type": "stream",
     "text": [
      "Train Accuracy : 51.15%\n",
      "Test Accuracy : 70.60%\n"
     ]
    }
   ],
   "source": [
    "Acc_svr30 = model_svr.score(X_train, y_train)\n",
    "acc_svr30 = model_svr.score(X_test, y_test)\n",
    "print ('Train Accuracy : {:.2f}%'.format(Acc_svr30*100))\n",
    "print ('Test Accuracy : {:.2f}%'.format(acc_svr30*100))"
   ]
  },
  {
   "cell_type": "code",
   "execution_count": 66,
   "id": "47c14959",
   "metadata": {},
   "outputs": [
    {
     "name": "stdout",
     "output_type": "stream",
     "text": [
      "Mean squared error: 0.06\n",
      "Variance Score: 0.71\n"
     ]
    }
   ],
   "source": [
    "print('Mean squared error: %.2f'% mean_squared_error(y_test, pred_svr))\n",
    "print('Variance Score: %.2f'% r2_score(y_test, pred_svr))"
   ]
  },
  {
   "cell_type": "markdown",
   "id": "9fa9b15b",
   "metadata": {},
   "source": [
    "### 9.6 Cross-Validation SVR<a name=\"9.6\"></a> "
   ]
  },
  {
   "cell_type": "code",
   "execution_count": 67,
   "id": "47c8d447",
   "metadata": {},
   "outputs": [
    {
     "name": "stdout",
     "output_type": "stream",
     "text": [
      "KFold(n_splits=5, random_state=None, shuffle=False)\n",
      "TRAIN: [ 3308  3309  3310 ... 16537 16538 16539] TEST: [   0    1    2 ... 3305 3306 3307]\n",
      "TRAIN: [    0     1     2 ... 16537 16538 16539] TEST: [3308 3309 3310 ... 6613 6614 6615]\n",
      "TRAIN: [    0     1     2 ... 16537 16538 16539] TEST: [6616 6617 6618 ... 9921 9922 9923]\n",
      "TRAIN: [    0     1     2 ... 16537 16538 16539] TEST: [ 9924  9925  9926 ... 13229 13230 13231]\n",
      "TRAIN: [    0     1     2 ... 13229 13230 13231] TEST: [13232 13233 13234 ... 16537 16538 16539]\n"
     ]
    }
   ],
   "source": [
    "import numpy as np\n",
    "from sklearn.model_selection import KFold\n",
    "from sklearn.model_selection import cross_val_score\n",
    "X = Modelgames\n",
    "y = Euro_Games['EU_Sales']\n",
    "kf = KFold(n_splits=5)\n",
    "kf.get_n_splits(X)\n",
    "5\n",
    "print(kf)\n",
    "for train_index, test_index in kf.split(X):\n",
    "    print(\"TRAIN:\", train_index, \"TEST:\", test_index)"
   ]
  },
  {
   "cell_type": "code",
   "execution_count": 68,
   "id": "3ce82415",
   "metadata": {},
   "outputs": [
    {
     "data": {
      "text/plain": [
       "array([0.49549811, 0.05149179, 0.04183394, 0.05239614, 0.06197776])"
      ]
     },
     "execution_count": 68,
     "metadata": {},
     "output_type": "execute_result"
    }
   ],
   "source": [
    "scores = cross_val_score(model_svr, X, y, cv=kf, scoring='neg_mean_absolute_error')\n",
    "-scores"
   ]
  },
  {
   "cell_type": "code",
   "execution_count": 69,
   "id": "5f01c825",
   "metadata": {},
   "outputs": [
    {
     "data": {
      "text/plain": [
       "-0.14063954552402858"
      ]
     },
     "execution_count": 69,
     "metadata": {},
     "output_type": "execute_result"
    }
   ],
   "source": [
    "scores.mean()"
   ]
  },
  {
   "cell_type": "markdown",
   "id": "3b1936f0",
   "metadata": {},
   "source": [
    "### 9.7 Modeling Results 30%<a name=\"9.7\"></a> \n",
    "    The next section allows to show the accuracy of our models in a list and also compare them in a graph.\n",
    "    By it we can conclude that the best model to make predictions is SVR. This could be because this models allows more missclasification."
   ]
  },
  {
   "cell_type": "code",
   "execution_count": 70,
   "id": "932afb2d",
   "metadata": {},
   "outputs": [],
   "source": [
    "results30 = pd.DataFrame({\"Model\":['Linear Regression','SVR','KNeighborsRegressor'],\n",
    "                      \"Accuracy\":[acc_reg30, acc_svr30, acc_neigh30]})"
   ]
  },
  {
   "cell_type": "code",
   "execution_count": 71,
   "id": "11abfd6b",
   "metadata": {},
   "outputs": [
    {
     "data": {
      "text/html": [
       "<div>\n",
       "<style scoped>\n",
       "    .dataframe tbody tr th:only-of-type {\n",
       "        vertical-align: middle;\n",
       "    }\n",
       "\n",
       "    .dataframe tbody tr th {\n",
       "        vertical-align: top;\n",
       "    }\n",
       "\n",
       "    .dataframe thead th {\n",
       "        text-align: right;\n",
       "    }\n",
       "</style>\n",
       "<table border=\"1\" class=\"dataframe\">\n",
       "  <thead>\n",
       "    <tr style=\"text-align: right;\">\n",
       "      <th></th>\n",
       "      <th>Model</th>\n",
       "      <th>Accuracy</th>\n",
       "    </tr>\n",
       "  </thead>\n",
       "  <tbody>\n",
       "    <tr>\n",
       "      <th>0</th>\n",
       "      <td>Linear Regression</td>\n",
       "      <td>0.719381</td>\n",
       "    </tr>\n",
       "    <tr>\n",
       "      <th>1</th>\n",
       "      <td>SVR</td>\n",
       "      <td>0.706005</td>\n",
       "    </tr>\n",
       "    <tr>\n",
       "      <th>2</th>\n",
       "      <td>KNeighborsRegressor</td>\n",
       "      <td>0.656012</td>\n",
       "    </tr>\n",
       "  </tbody>\n",
       "</table>\n",
       "</div>"
      ],
      "text/plain": [
       "                 Model  Accuracy\n",
       "0    Linear Regression  0.719381\n",
       "1                  SVR  0.706005\n",
       "2  KNeighborsRegressor  0.656012"
      ]
     },
     "execution_count": 71,
     "metadata": {},
     "output_type": "execute_result"
    }
   ],
   "source": [
    "results30"
   ]
  },
  {
   "cell_type": "code",
   "execution_count": 72,
   "id": "85b9c185",
   "metadata": {
    "scrolled": true
   },
   "outputs": [
    {
     "data": {
      "text/plain": [
       "<AxesSubplot:xlabel='Accuracy', ylabel='Model'>"
      ]
     },
     "execution_count": 72,
     "metadata": {},
     "output_type": "execute_result"
    },
    {
     "data": {
      "image/png": "[encoded data removed]",
      "text/plain": [
       "<Figure size 432x288 with 1 Axes>"
      ]
     },
     "metadata": {
      "needs_background": "light"
     },
     "output_type": "display_data"
    }
   ],
   "source": [
    "sns.barplot(x='Accuracy', y='Model', data=results30)"
   ]
  },
  {
   "cell_type": "code",
   "execution_count": 73,
   "id": "450c1d9c",
   "metadata": {},
   "outputs": [],
   "source": [
    "X_train, X_test, y_train, y_test = train_test_split (Modelgames, y, test_size=0.20)"
   ]
  },
  {
   "cell_type": "markdown",
   "id": "f8bb5bed",
   "metadata": {},
   "source": [
    "***"
   ]
  },
  {
   "cell_type": "markdown",
   "id": "250b0587",
   "metadata": {},
   "source": [
    "## 10. Models at 20%<a name=\"10\"></a> \n",
    "### 10.1 Linear Regression 20%<a name=\"10.1\"></a> "
   ]
  },
  {
   "cell_type": "code",
   "execution_count": 74,
   "id": "fa50b5e0",
   "metadata": {},
   "outputs": [
    {
     "data": {
      "text/plain": [
       "LinearRegression()"
      ]
     },
     "execution_count": 74,
     "metadata": {},
     "output_type": "execute_result"
    }
   ],
   "source": [
    "reg = LinearRegression()\n",
    "reg.fit(X_train,y_train)"
   ]
  },
  {
   "cell_type": "code",
   "execution_count": 75,
   "id": "2bf3399b",
   "metadata": {},
   "outputs": [],
   "source": [
    "y_pred = reg.predict(X_test)"
   ]
  },
  {
   "cell_type": "code",
   "execution_count": 76,
   "id": "2f1188bd",
   "metadata": {},
   "outputs": [
    {
     "name": "stdout",
     "output_type": "stream",
     "text": [
      "Train Accuracy : 80.38%\n",
      "Test Accuracy : -111.50%\n"
     ]
    }
   ],
   "source": [
    "Acc_reg20 = reg.score(X_train, y_train)\n",
    "acc_reg20 = reg.score(X_test, y_test)\n",
    "print ('Train Accuracy : {:.2f}%'.format(Acc_reg20*100))\n",
    "print ('Test Accuracy : {:.2f}%'.format(acc_reg20*100))"
   ]
  },
  {
   "cell_type": "code",
   "execution_count": 77,
   "id": "094b1b87",
   "metadata": {},
   "outputs": [
    {
     "name": "stdout",
     "output_type": "stream",
     "text": [
      "Mean squared error: 0.29\n",
      "Variance Score: -1.11\n"
     ]
    }
   ],
   "source": [
    "print('Mean squared error: %.2f'% mean_squared_error(y_test, y_pred))\n",
    "print('Variance Score: %.2f'% r2_score(y_test, y_pred))"
   ]
  },
  {
   "cell_type": "markdown",
   "id": "87bfabf4",
   "metadata": {},
   "source": [
    "### 10.2 KNN 20%<a name=\"10.2\"></a> "
   ]
  },
  {
   "cell_type": "code",
   "execution_count": 78,
   "id": "a7611ac4",
   "metadata": {},
   "outputs": [
    {
     "data": {
      "text/plain": [
       "KNeighborsRegressor()"
      ]
     },
     "execution_count": 78,
     "metadata": {},
     "output_type": "execute_result"
    }
   ],
   "source": [
    "neigh = KNeighborsRegressor()\n",
    "neigh.fit(X_train, y_train)"
   ]
  },
  {
   "cell_type": "code",
   "execution_count": 79,
   "id": "1eb3e541",
   "metadata": {},
   "outputs": [],
   "source": [
    "pred_neigh = neigh.predict(X_test)"
   ]
  },
  {
   "cell_type": "code",
   "execution_count": 80,
   "id": "36e8b164",
   "metadata": {},
   "outputs": [
    {
     "name": "stdout",
     "output_type": "stream",
     "text": [
      "Train Accuracy : 85.04%\n",
      "Test Accuracy : 25.78%\n"
     ]
    }
   ],
   "source": [
    "Acc_neigh20 = neigh.score(X_train, y_train)\n",
    "acc_neigh20 = neigh.score(X_test, y_test)\n",
    "print ('Train Accuracy : {:.2f}%'.format(Acc_neigh20*100))\n",
    "print ('Test Accuracy : {:.2f}%'.format(acc_neigh20*100))"
   ]
  },
  {
   "cell_type": "code",
   "execution_count": 81,
   "id": "32088e93",
   "metadata": {},
   "outputs": [
    {
     "name": "stdout",
     "output_type": "stream",
     "text": [
      "Mean squared error: 0.10\n",
      "Variance Score: 0.26\n"
     ]
    }
   ],
   "source": [
    "print('Mean squared error: %.2f'% mean_squared_error(y_test, pred_neigh))\n",
    "print('Variance Score: %.2f'% r2_score(y_test, pred_neigh))"
   ]
  },
  {
   "cell_type": "markdown",
   "id": "15eb5328",
   "metadata": {},
   "source": [
    "### 10.3 SVR 20%<a name=\"10.3\"></a> "
   ]
  },
  {
   "cell_type": "code",
   "execution_count": 82,
   "id": "70bb0522",
   "metadata": {},
   "outputs": [
    {
     "data": {
      "text/plain": [
       "SVR()"
      ]
     },
     "execution_count": 82,
     "metadata": {},
     "output_type": "execute_result"
    }
   ],
   "source": [
    "model_svr = SVR()\n",
    "model_svr.fit(X_train, y_train)"
   ]
  },
  {
   "cell_type": "code",
   "execution_count": 83,
   "id": "2edd494c",
   "metadata": {},
   "outputs": [],
   "source": [
    "pred_svr = model_svr.predict(X_test)"
   ]
  },
  {
   "cell_type": "code",
   "execution_count": 84,
   "id": "428b28ae",
   "metadata": {},
   "outputs": [
    {
     "name": "stdout",
     "output_type": "stream",
     "text": [
      "Train Accuracy : 63.47%\n",
      "Test Accuracy : 74.38%\n"
     ]
    }
   ],
   "source": [
    "Acc_svr20 = model_svr.score(X_train, y_train)\n",
    "acc_svr20 = model_svr.score(X_test, y_test)\n",
    "print ('Train Accuracy : {:.2f}%'.format(Acc_svr20*100))\n",
    "print ('Test Accuracy : {:.2f}%'.format(acc_svr20*100))"
   ]
  },
  {
   "cell_type": "code",
   "execution_count": 85,
   "id": "77505e87",
   "metadata": {},
   "outputs": [
    {
     "name": "stdout",
     "output_type": "stream",
     "text": [
      "Mean squared error: 0.03\n",
      "Variance Score: 0.74\n"
     ]
    }
   ],
   "source": [
    "print('Mean squared error: %.2f'% mean_squared_error(y_test, pred_svr))\n",
    "print('Variance Score: %.2f'% r2_score(y_test, pred_svr))"
   ]
  },
  {
   "cell_type": "markdown",
   "id": "e83dcd95",
   "metadata": {},
   "source": [
    "### 10.4 Results 20%<a name=\"10.4\"></a> "
   ]
  },
  {
   "cell_type": "code",
   "execution_count": 86,
   "id": "f0171e9d",
   "metadata": {},
   "outputs": [],
   "source": [
    "results20 = pd.DataFrame({\"Model\":['Linear Regression','SVR','KNeighborsRegressor'],\n",
    "                      \"Accuracy\":[acc_reg20, acc_svr20, acc_neigh20]})"
   ]
  },
  {
   "cell_type": "code",
   "execution_count": 87,
   "id": "ca1c1d55",
   "metadata": {},
   "outputs": [
    {
     "data": {
      "text/html": [
       "<div>\n",
       "<style scoped>\n",
       "    .dataframe tbody tr th:only-of-type {\n",
       "        vertical-align: middle;\n",
       "    }\n",
       "\n",
       "    .dataframe tbody tr th {\n",
       "        vertical-align: top;\n",
       "    }\n",
       "\n",
       "    .dataframe thead th {\n",
       "        text-align: right;\n",
       "    }\n",
       "</style>\n",
       "<table border=\"1\" class=\"dataframe\">\n",
       "  <thead>\n",
       "    <tr style=\"text-align: right;\">\n",
       "      <th></th>\n",
       "      <th>Model</th>\n",
       "      <th>Accuracy</th>\n",
       "    </tr>\n",
       "  </thead>\n",
       "  <tbody>\n",
       "    <tr>\n",
       "      <th>0</th>\n",
       "      <td>Linear Regression</td>\n",
       "      <td>-1.114956</td>\n",
       "    </tr>\n",
       "    <tr>\n",
       "      <th>1</th>\n",
       "      <td>SVR</td>\n",
       "      <td>0.743765</td>\n",
       "    </tr>\n",
       "    <tr>\n",
       "      <th>2</th>\n",
       "      <td>KNeighborsRegressor</td>\n",
       "      <td>0.257773</td>\n",
       "    </tr>\n",
       "  </tbody>\n",
       "</table>\n",
       "</div>"
      ],
      "text/plain": [
       "                 Model  Accuracy\n",
       "0    Linear Regression -1.114956\n",
       "1                  SVR  0.743765\n",
       "2  KNeighborsRegressor  0.257773"
      ]
     },
     "execution_count": 87,
     "metadata": {},
     "output_type": "execute_result"
    }
   ],
   "source": [
    "results20"
   ]
  },
  {
   "cell_type": "code",
   "execution_count": 88,
   "id": "5462aa06",
   "metadata": {},
   "outputs": [
    {
     "data": {
      "text/plain": [
       "<AxesSubplot:xlabel='Accuracy', ylabel='Model'>"
      ]
     },
     "execution_count": 88,
     "metadata": {},
     "output_type": "execute_result"
    },
    {
     "data": {
      "image/png": "[encoded data removed]",
      "text/plain": [
       "<Figure size 432x288 with 1 Axes>"
      ]
     },
     "metadata": {
      "needs_background": "light"
     },
     "output_type": "display_data"
    }
   ],
   "source": [
    "sns.barplot(x='Accuracy', y='Model', data=results20)"
   ]
  },
  {
   "cell_type": "markdown",
   "id": "fb07dd4b",
   "metadata": {},
   "source": [
    "***"
   ]
  },
  {
   "cell_type": "markdown",
   "id": "eacacc0a",
   "metadata": {},
   "source": [
    "## 11. Models at 10%<a name=\"11\"></a> "
   ]
  },
  {
   "cell_type": "code",
   "execution_count": 89,
   "id": "cf8521b4",
   "metadata": {},
   "outputs": [],
   "source": [
    "X_train, X_test, y_train, y_test = train_test_split (Modelgames, y, test_size=0.10)"
   ]
  },
  {
   "cell_type": "markdown",
   "id": "d25ff3f4",
   "metadata": {},
   "source": [
    "### 11.1 Linear Regression 10%<a name=\"11.1\"></a> "
   ]
  },
  {
   "cell_type": "code",
   "execution_count": 90,
   "id": "9afccdfb",
   "metadata": {},
   "outputs": [
    {
     "data": {
      "text/plain": [
       "LinearRegression()"
      ]
     },
     "execution_count": 90,
     "metadata": {},
     "output_type": "execute_result"
    }
   ],
   "source": [
    "reg = LinearRegression()\n",
    "reg.fit(X_train,y_train)"
   ]
  },
  {
   "cell_type": "code",
   "execution_count": 91,
   "id": "a0b273c9",
   "metadata": {},
   "outputs": [],
   "source": [
    "y_pred = reg.predict(X_test)"
   ]
  },
  {
   "cell_type": "code",
   "execution_count": 92,
   "id": "c527d83e",
   "metadata": {},
   "outputs": [
    {
     "name": "stdout",
     "output_type": "stream",
     "text": [
      "Train Accuracy : 67.81%\n",
      "Test Accuracy : 78.17%\n"
     ]
    }
   ],
   "source": [
    "Acc_reg10 = reg.score(X_train, y_train)\n",
    "acc_reg10 = reg.score(X_test, y_test)\n",
    "print ('Train Accuracy : {:.2f}%'.format(Acc_reg10*100))\n",
    "print ('Test Accuracy : {:.2f}%'.format(acc_reg10*100))"
   ]
  },
  {
   "cell_type": "code",
   "execution_count": 93,
   "id": "1a7ec199",
   "metadata": {},
   "outputs": [
    {
     "name": "stdout",
     "output_type": "stream",
     "text": [
      "Mean squared error: 0.04\n",
      "Variance Score: 0.78\n"
     ]
    }
   ],
   "source": [
    "print('Mean squared error: %.2f'% mean_squared_error(y_test, y_pred))\n",
    "print('Variance Score: %.2f'% r2_score(y_test, y_pred))"
   ]
  },
  {
   "cell_type": "markdown",
   "id": "96badc28",
   "metadata": {},
   "source": [
    "### 11.2 KNN 10%<a name=\"11.2\"></a> "
   ]
  },
  {
   "cell_type": "code",
   "execution_count": 94,
   "id": "d3e9c323",
   "metadata": {},
   "outputs": [
    {
     "data": {
      "text/plain": [
       "KNeighborsRegressor()"
      ]
     },
     "execution_count": 94,
     "metadata": {},
     "output_type": "execute_result"
    }
   ],
   "source": [
    "neigh = KNeighborsRegressor()\n",
    "neigh.fit(X_train, y_train)"
   ]
  },
  {
   "cell_type": "code",
   "execution_count": 95,
   "id": "fa78a7f7",
   "metadata": {},
   "outputs": [],
   "source": [
    "pred_neigh = neigh.predict(X_test)"
   ]
  },
  {
   "cell_type": "code",
   "execution_count": 96,
   "id": "ffd3b7e8",
   "metadata": {},
   "outputs": [
    {
     "name": "stdout",
     "output_type": "stream",
     "text": [
      "Train Accuracy : 81.78%\n",
      "Test Accuracy : 87.45%\n"
     ]
    }
   ],
   "source": [
    "Acc_neigh10 = neigh.score(X_train, y_train)\n",
    "acc_neigh10 = neigh.score(X_test, y_test)\n",
    "print ('Train Accuracy : {:.2f}%'.format(Acc_neigh10*100))\n",
    "print ('Test Accuracy : {:.2f}%'.format(acc_neigh10*100))"
   ]
  },
  {
   "cell_type": "code",
   "execution_count": 97,
   "id": "e90cf352",
   "metadata": {},
   "outputs": [
    {
     "name": "stdout",
     "output_type": "stream",
     "text": [
      "Mean squared error: 0.03\n",
      "Variance Score: 0.87\n"
     ]
    }
   ],
   "source": [
    "print('Mean squared error: %.2f'% mean_squared_error(y_test, pred_neigh))\n",
    "print('Variance Score: %.2f'% r2_score(y_test, pred_neigh))"
   ]
  },
  {
   "cell_type": "markdown",
   "id": "565d3bb1",
   "metadata": {},
   "source": [
    "### 11.3 SVR 10%<a name=\"11.3\"></a> "
   ]
  },
  {
   "cell_type": "code",
   "execution_count": 98,
   "id": "e6d5b76d",
   "metadata": {},
   "outputs": [
    {
     "data": {
      "text/plain": [
       "SVR()"
      ]
     },
     "execution_count": 98,
     "metadata": {},
     "output_type": "execute_result"
    }
   ],
   "source": [
    "model_svr = SVR()\n",
    "model_svr.fit(X_train, y_train)"
   ]
  },
  {
   "cell_type": "code",
   "execution_count": 99,
   "id": "7e8e9e8f",
   "metadata": {},
   "outputs": [],
   "source": [
    "pred_svr = model_svr.predict(X_test)"
   ]
  },
  {
   "cell_type": "code",
   "execution_count": 100,
   "id": "f2bcaa60",
   "metadata": {},
   "outputs": [
    {
     "name": "stdout",
     "output_type": "stream",
     "text": [
      "Train Accuracy : 63.54%\n",
      "Test Accuracy : 72.46%\n"
     ]
    }
   ],
   "source": [
    "Acc_svr10 = model_svr.score(X_train, y_train)\n",
    "acc_svr10 = model_svr.score(X_test, y_test)\n",
    "print ('Train Accuracy : {:.2f}%'.format(Acc_svr10*100))\n",
    "print ('Test Accuracy : {:.2f}%'.format(acc_svr10*100))"
   ]
  },
  {
   "cell_type": "code",
   "execution_count": 101,
   "id": "0eef9da5",
   "metadata": {},
   "outputs": [
    {
     "name": "stdout",
     "output_type": "stream",
     "text": [
      "Mean squared error: 0.06\n",
      "Variance Score: 0.72\n"
     ]
    }
   ],
   "source": [
    "print('Mean squared error: %.2f'% mean_squared_error(y_test, pred_svr))\n",
    "print('Variance Score: %.2f'% r2_score(y_test, pred_svr))"
   ]
  },
  {
   "cell_type": "markdown",
   "id": "84eb5194",
   "metadata": {},
   "source": [
    "### 11.4 Results 20%<a name=\"11.4\"></a> "
   ]
  },
  {
   "cell_type": "code",
   "execution_count": 102,
   "id": "d6e96b11",
   "metadata": {},
   "outputs": [],
   "source": [
    "results10 = pd.DataFrame({\"Model\":['Linear Regression','SVR','KNeighborsRegressor'],\n",
    "                      \"Accuracy\":[acc_reg10, acc_svr10, acc_neigh10]})"
   ]
  },
  {
   "cell_type": "code",
   "execution_count": 103,
   "id": "663829d3",
   "metadata": {},
   "outputs": [
    {
     "data": {
      "text/html": [
       "<div>\n",
       "<style scoped>\n",
       "    .dataframe tbody tr th:only-of-type {\n",
       "        vertical-align: middle;\n",
       "    }\n",
       "\n",
       "    .dataframe tbody tr th {\n",
       "        vertical-align: top;\n",
       "    }\n",
       "\n",
       "    .dataframe thead th {\n",
       "        text-align: right;\n",
       "    }\n",
       "</style>\n",
       "<table border=\"1\" class=\"dataframe\">\n",
       "  <thead>\n",
       "    <tr style=\"text-align: right;\">\n",
       "      <th></th>\n",
       "      <th>Model</th>\n",
       "      <th>Accuracy</th>\n",
       "    </tr>\n",
       "  </thead>\n",
       "  <tbody>\n",
       "    <tr>\n",
       "      <th>0</th>\n",
       "      <td>Linear Regression</td>\n",
       "      <td>0.781738</td>\n",
       "    </tr>\n",
       "    <tr>\n",
       "      <th>1</th>\n",
       "      <td>SVR</td>\n",
       "      <td>0.724628</td>\n",
       "    </tr>\n",
       "    <tr>\n",
       "      <th>2</th>\n",
       "      <td>KNeighborsRegressor</td>\n",
       "      <td>0.874501</td>\n",
       "    </tr>\n",
       "  </tbody>\n",
       "</table>\n",
       "</div>"
      ],
      "text/plain": [
       "                 Model  Accuracy\n",
       "0    Linear Regression  0.781738\n",
       "1                  SVR  0.724628\n",
       "2  KNeighborsRegressor  0.874501"
      ]
     },
     "execution_count": 103,
     "metadata": {},
     "output_type": "execute_result"
    }
   ],
   "source": [
    "results10"
   ]
  },
  {
   "cell_type": "code",
   "execution_count": 104,
   "id": "5d6bf25b",
   "metadata": {},
   "outputs": [
    {
     "data": {
      "text/plain": [
       "<AxesSubplot:xlabel='Accuracy', ylabel='Model'>"
      ]
     },
     "execution_count": 104,
     "metadata": {},
     "output_type": "execute_result"
    },
    {
     "data": {
      "image/png": "[encoded data removed]",
      "text/plain": [
       "<Figure size 432x288 with 1 Axes>"
      ]
     },
     "metadata": {
      "needs_background": "light"
     },
     "output_type": "display_data"
    }
   ],
   "source": [
    "sns.barplot(x='Accuracy', y='Model', data=results10)"
   ]
  },
  {
   "cell_type": "markdown",
   "id": "16e4eb37",
   "metadata": {},
   "source": [
    "Please, chechk PDF for better description of the study and conclusion. "
   ]
  },
  {
   "cell_type": "code",
   "execution_count": null,
   "id": "f41e1fb0",
   "metadata": {},
   "outputs": [],
   "source": []
  }
 ],
 "metadata": {
  "kernelspec": {
   "display_name": "Python 3",
   "language": "python",
   "name": "python3"
  },
  "language_info": {
   "codemirror_mode": {
    "name": "ipython",
    "version": 3
   },
   "file_extension": ".py",
   "mimetype": "text/x-python",
   "name": "python",
   "nbconvert_exporter": "python",
   "pygments_lexer": "ipython3",
   "version": "3.8.8"
  }
 },
 "nbformat": 4,
 "nbformat_minor": 5
}
